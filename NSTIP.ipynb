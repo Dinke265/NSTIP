{
  "nbformat": 4,
  "nbformat_minor": 0,
  "metadata": {
    "colab": {
      "provenance": [],
      "authorship_tag": "ABX9TyNxIvKVEvgiGcfm1q2f+zNG",
      "include_colab_link": true
    },
    "kernelspec": {
      "name": "python3",
      "display_name": "Python 3"
    },
    "language_info": {
      "name": "python"
    }
  },
  "cells": [
    {
      "cell_type": "markdown",
      "metadata": {
        "id": "view-in-github",
        "colab_type": "text"
      },
      "source": [
        "<a href=\"https://colab.research.google.com/github/Dinke265/NSTIP/blob/main/NSTIP.ipynb\" target=\"_parent\"><img src=\"https://colab.research.google.com/assets/colab-badge.svg\" alt=\"Open In Colab\"/></a>"
      ]
    },
    {
      "cell_type": "code",
      "execution_count": null,
      "metadata": {
        "colab": {
          "base_uri": "https://localhost:8080/"
        },
        "id": "-9go3DcMEMlr",
        "outputId": "15647bf6-d989-4ec4-e543-e1f900d71fbc"
      },
      "outputs": [
        {
          "output_type": "stream",
          "name": "stdout",
          "text": [
            "Requirement already satisfied: rpy2 in /usr/local/lib/python3.10/dist-packages (3.4.2)\n",
            "Requirement already satisfied: cffi>=1.10.0 in /usr/local/lib/python3.10/dist-packages (from rpy2) (1.16.0)\n",
            "Requirement already satisfied: jinja2 in /usr/local/lib/python3.10/dist-packages (from rpy2) (3.1.3)\n",
            "Requirement already satisfied: pytz in /usr/local/lib/python3.10/dist-packages (from rpy2) (2023.4)\n",
            "Requirement already satisfied: tzlocal in /usr/local/lib/python3.10/dist-packages (from rpy2) (5.2)\n",
            "Requirement already satisfied: pycparser in /usr/local/lib/python3.10/dist-packages (from cffi>=1.10.0->rpy2) (2.21)\n",
            "Requirement already satisfied: MarkupSafe>=2.0 in /usr/local/lib/python3.10/dist-packages (from jinja2->rpy2) (2.1.5)\n"
          ]
        }
      ],
      "source": [
        "!pip install rpy2"
      ]
    },
    {
      "cell_type": "code",
      "source": [
        "%load_ext rpy2.ipython\n"
      ],
      "metadata": {
        "id": "gzWt5bszEVpI"
      },
      "execution_count": null,
      "outputs": []
    },
    {
      "cell_type": "code",
      "source": [
        "from google.colab import drive\n",
        "drive.mount('/content/drive/')"
      ],
      "metadata": {
        "colab": {
          "base_uri": "https://localhost:8080/"
        },
        "id": "t0QCyeY_IHRT",
        "outputId": "44e4d257-d448-4eb5-e375-76f288389b14"
      },
      "execution_count": null,
      "outputs": [
        {
          "output_type": "stream",
          "name": "stdout",
          "text": [
            "Drive already mounted at /content/drive/; to attempt to forcibly remount, call drive.mount(\"/content/drive/\", force_remount=True).\n"
          ]
        }
      ]
    },
    {
      "cell_type": "code",
      "source": [
        "%cd /content/drive/My Drive/NSTIP/"
      ],
      "metadata": {
        "colab": {
          "base_uri": "https://localhost:8080/"
        },
        "id": "pS2s3s1oIlDk",
        "outputId": "93388910-dbc6-4bbb-9f13-afd4bada3794"
      },
      "execution_count": null,
      "outputs": [
        {
          "output_type": "stream",
          "name": "stdout",
          "text": [
            "/content/drive/My Drive/NSTIP\n"
          ]
        }
      ]
    },
    {
      "cell_type": "code",
      "source": [
        "%%R\n",
        "\n",
        "install.packages(\"tidyverse\")\n",
        "install.packages(\"dplyr\")\n",
        "install.packages(\"readr\")\n",
        "install.packages(\"visdat\")\n",
        "\n",
        "library(tidyverse)\n",
        "library(dplyr)\n",
        "library(readr)\n",
        "library(visdat)"
      ],
      "metadata": {
        "id": "hkw2JmUW9gul"
      },
      "execution_count": null,
      "outputs": []
    },
    {
      "cell_type": "code",
      "source": [
        "%%R\n",
        "allgradsdata <- read_csv(\"/content/drive/My Drive/NSTIP/AllGraduatesData2022.csv\")\n",
        "stemgrads <- read_csv(\"/content/drive/My Drive/NSTIP/STEMgraduates.csv\")\n",
        "head(allgradsdata)"
      ],
      "metadata": {
        "id": "293goozpIpTn"
      },
      "execution_count": null,
      "outputs": []
    },
    {
      "cell_type": "code",
      "source": [
        "%%R\n",
        "head(stemgrads)\n",
        "\n",
        "names(stemgrads) <- tolower(names(stemgrads))\n",
        "\n",
        "print(names(stemgrads))"
      ],
      "metadata": {
        "colab": {
          "base_uri": "https://localhost:8080/"
        },
        "id": "T7HEi3prKQsq",
        "outputId": "b9b51c89-ee53-4cc2-8859-3caa0b0ef6a7"
      },
      "execution_count": 79,
      "outputs": [
        {
          "output_type": "stream",
          "name": "stdout",
          "text": [
            " [1] \"public\"                 \"private\"                \"prog_indicator...3\"    \n",
            " [4] \"stem\"                   \"sti\"                    \"ict\"                   \n",
            " [7] \"miscellaneous programs\" \"females\"                \"males\"                 \n",
            "[10] \"level\"                  \"prog_indicator...11\"   \n"
          ]
        }
      ]
    },
    {
      "cell_type": "code",
      "source": [
        "%%R\n",
        "# Print the unique categories for the level\n",
        "print(unique(stemgrads$level))\n"
      ],
      "metadata": {
        "id": "nqp8maATLB9t"
      },
      "execution_count": null,
      "outputs": []
    },
    {
      "cell_type": "code",
      "source": [
        "%%R\n",
        "#Clean the level variable\n",
        "\n",
        "stemgrads <- stemgrads %>%\n",
        "  mutate(level = case_when(\n",
        "    level == \"Degree\" ~ \"Bachelors\",\n",
        "    level == \"Degree Level\" ~ \"Bachelors\",\n",
        "    level == \"Undergraduate\" ~ \"Bachelors\",\n",
        "    level == \"BACHELOR'S\" ~ \"Bachelors\",\n",
        "    level == \"DEGREE\" ~ \"Bachelors\",\n",
        "    level == \"Bachelor's degree\" ~ \"Bachelors\",\n",
        "    level == \"Bacherors\" ~ \"Bachelors\",\n",
        "    level == \"Bacheror\" ~ \"Bachelors\",\n",
        "    level == \"Bacheros\" ~ \"Bachelors\",\n",
        "    level == \"Masters Level\" ~ \"Masters\",\n",
        "    level == \"MASTERS DEGREE\" ~ \"Masters\",\n",
        "    level == \"UNDERGRADUATE\" ~ \"Bachelors\",\n",
        "    level == \"MASTER'S\" ~ \"Masters\",\n",
        "    level == \"Diploma Level\" ~ \"Diploma\",\n",
        "    level == \"Foundetion Diploma\" ~ \"Diploma\",\n",
        "    level == \"Diploma Level 5\" ~ \"Diploma\",\n",
        "    level == \"NCC LEVEL 5 DIPLOMA\" ~ \"Diploma\",\n",
        "    level == \"NCC LEVEL 4 DIPLOMA\" ~ \"Diploma\",\n",
        "    level == \"diploma\" ~ \"Diploma\",\n",
        "    level == \"DIPLOMA\" ~ \"Diploma\",\n",
        "    level == \"Level 4\" ~ \"Diploma\",\n",
        "    level == \"Dipoma\" ~ \"Diploma\",\n",
        "    level == \"Level 6\" ~ \"Bachelors\",\n",
        "    level == \"Chichewa Program\" ~ \"Certificate\",\n",
        "    level == \"English Program\" ~ \"Certificate\",\n",
        "    level == \"CERTIFICATE\" ~ \"Certificate\",\n",
        "    level == \"PhD\" ~ \"Doctorate\",\n",
        "    level == \"Doctors\" ~ \"Doctorate\",\n",
        "    level == \"7\" ~ \"Bachelors\",\n",
        "    level == \"9\" ~ \"Masters\",\n",
        "    level == \"10\" ~ \"Doctorate\",\n",
        "    level == \"PHD\" ~ \"Doctorate\",\n",
        "    level == \"4\" ~ \"Certificate\",\n",
        "    level == \"certificate\" ~ \"Certificate\",\n",
        "    level == \"5\" ~ \"Diploma\",\n",
        "    level == \"6\" ~ \"Diploma\",\n",
        "     level == \"Diplomas\" ~ \"Diploma\",\n",
        "    level == \"Post Graduate\" ~ \"Masters\",\n",
        "    level == \"Postgraduate\" ~ \"Masters\",\n",
        "    level == \"CA Level 1\" ~ \"Diploma\",\n",
        "    level == \"Postgraduate Diploma Level\" ~ \"Postgraduate Other\",\n",
        "    TRUE ~ as.character(level)\n",
        "  ))\n"
      ],
      "metadata": {
        "id": "t1THM3vdP7XY"
      },
      "execution_count": 86,
      "outputs": []
    },
    {
      "cell_type": "code",
      "source": [
        "%%R\n",
        "print(unique(stemgrads$level)) # Check the categories for the level have been correctly replaced"
      ],
      "metadata": {
        "colab": {
          "base_uri": "https://localhost:8080/"
        },
        "outputId": "3165a2f5-e54f-4481-93a5-3f3889840400",
        "id": "SL2jQbozQQIl"
      },
      "execution_count": 87,
      "outputs": [
        {
          "output_type": "stream",
          "name": "stdout",
          "text": [
            "[1] \"Bachelors\"          \"Diploma\"            \"Doctorate\"         \n",
            "[4] \"Masters\"            \"Certificate\"        \"Postgraduate Other\"\n",
            "[7] NA                  \n"
          ]
        }
      ]
    },
    {
      "cell_type": "code",
      "source": [
        "%%R\n",
        "#Renaming some variables\n",
        "stemgrads <- stemgrads%>%\n",
        "  rename(\n",
        "    program_type = `prog_indicator...3`)\n",
        "\n",
        "print(names(stemgrads))"
      ],
      "metadata": {
        "id": "-i6V8mLpV4ww"
      },
      "execution_count": null,
      "outputs": []
    },
    {
      "cell_type": "code",
      "source": [],
      "metadata": {
        "id": "Z_oK3Yv4FPye"
      },
      "execution_count": null,
      "outputs": []
    },
    {
      "cell_type": "markdown",
      "source": [
        "Creating an indicator variable for institution type.\n",
        "1= public institution\n",
        "0= private institution"
      ],
      "metadata": {
        "id": "jVbav7-rYAjL"
      }
    },
    {
      "cell_type": "code",
      "source": [
        "%%R\n",
        "\n",
        "stemgrads <- stemgrads %>%\n",
        "  mutate(\n",
        "    institution_type = case_when(\n",
        "      !is.na(public) ~ 1,\n",
        "      !is.na(private) ~ 0,\n",
        "      TRUE ~ NA_integer_\n",
        "    )\n",
        "  )\n",
        "\n",
        "stemgrads <- stemgrads %>%\n",
        "  mutate(row_id = row_number()) %>%\n",
        "  pivot_longer(cols = c(private, public), names_to = \"type_institution\", values_to = \"institution_value\") %>%\n",
        "  filter(!is.na(institution_value)) %>%\n",
        "  mutate(institution_type = ifelse(institution_type == \"public\", 1, 0)) %>%\n",
        "  select(-row_id)"
      ],
      "metadata": {
        "id": "m4E9PGmEY4Jg"
      },
      "execution_count": 93,
      "outputs": []
    },
    {
      "cell_type": "code",
      "source": [
        "%%R\n",
        "stemgrads <- stemgrads[order(stemgrads$institution_value), ]\n",
        "write.csv(stemgrads, \"stemgradsdata.csv\", row.names = TRUE)\n"
      ],
      "metadata": {
        "id": "cR4EfkRzZSSD"
      },
      "execution_count": 95,
      "outputs": []
    },
    {
      "cell_type": "markdown",
      "source": [
        "# **Check missingness**"
      ],
      "metadata": {
        "id": "GsydQVlpFrcq"
      }
    },
    {
      "cell_type": "code",
      "source": [
        "%%R\n",
        "stemgradsdata <- stemgrads[c(\"program_type\",\"males\", \"females\",\"level\", \"type_institution\",\n",
        "                         \"institution_value\")]"
      ],
      "metadata": {
        "id": "QI5IsVz0Fuez"
      },
      "execution_count": 96,
      "outputs": []
    },
    {
      "cell_type": "code",
      "source": [
        "%%R\n",
        "stemgradsdata <- stemgradsdata %>%\n",
        "    mutate(program_type= case_when(\n",
        "        program_type ==1 ~ \"STEM\",\n",
        "        program_type ==2 ~ \"ICT\",\n",
        "        program_type ==3 ~ \"STI\",\n",
        "        program_type ==4 ~ \"Humanities, Arts and Social Sciences\",\n",
        "    ))"
      ],
      "metadata": {
        "id": "N5epgQonGvaQ"
      },
      "execution_count": 99,
      "outputs": []
    },
    {
      "cell_type": "code",
      "source": [
        "%%R\n",
        "missingness<- sapply(stemgradsdata, function(x) sum(is.na(x)))\n",
        "print(missingness)\n"
      ],
      "metadata": {
        "colab": {
          "base_uri": "https://localhost:8080/"
        },
        "id": "CUfmU-R3IUw_",
        "outputId": "c68cac70-299e-4cca-c0e0-b928b71a636e"
      },
      "execution_count": 103,
      "outputs": [
        {
          "output_type": "stream",
          "name": "stdout",
          "text": [
            "     program_type             males           females             level \n",
            "                1                11                14                 1 \n",
            " type_institution institution_value \n",
            "                0                 0 \n"
          ]
        }
      ]
    },
    {
      "cell_type": "code",
      "source": [
        "%%R\n",
        "rows_with_na <- apply(is.na(stemgradsdata), 1, any)\n",
        "\n",
        "observations_with_missing <- stemgradsdata[rows_with_na, ]\n",
        "\n",
        "print(observations_with_missing)\n",
        "\n",
        "# Convert to data frame\n",
        "missing_values <- as.data.frame(t(missingness))\n",
        "names(missing_values) <- c(\"Missing_Values\")"
      ],
      "metadata": {
        "id": "47Dt-hp_M0zF"
      },
      "execution_count": null,
      "outputs": []
    },
    {
      "cell_type": "code",
      "source": [
        "%%R\n",
        "#check for outliers, assume any numbers greater 300 need to be checked\n",
        "outliers_males <- sum(stemgradsdata$males > 300, na.rm = TRUE)\n",
        "outliers_females <- sum(stemgradsdata$females > 300, na.rm = TRUE)\n",
        "\n",
        "# Combine into a data frame\n",
        "outliers_summary <- data.frame(Variable = c(\"males\", \"females\"),\n",
        "                               Outliers = c(outliers_males, outliers_females))\n",
        "\n",
        "print(outliers_summary)\n",
        "# Filter rows that have any missing value\n",
        "rows_with_na <- apply(is.na(stemgradsdata), 1, any)\n",
        "observations_with_missing <- stemgradsdata[rows_with_na, ]\n",
        "\n",
        "# save CSV file\n",
        "write.csv(observations_with_missing, \"missing.csv\", row.names = FALSE)\n",
        "\n",
        "outliers <- stemgradsdata[(stemgradsdata$males > 300 & !is.na(stemgradsdata$males)) |\n",
        "                          (stemgradsdata$females > 300 & !is.na(stemgradsdata$females)), ]\n",
        "\n",
        "\n",
        "write.csv(outliers, \"outliers.csv\", row.names = FALSE)"
      ],
      "metadata": {
        "id": "6bvtPqExP89R"
      },
      "execution_count": null,
      "outputs": []
    },
    {
      "cell_type": "markdown",
      "source": [
        "Numbers of males and females by degree level"
      ],
      "metadata": {
        "id": "psgqNt8Vcs6h"
      }
    },
    {
      "cell_type": "code",
      "source": [
        "%%R\n",
        "stemgradsdata %>%\n",
        "  group_by(level) %>%\n",
        "  summarise(\n",
        "    total_males = sum(males, na.rm = TRUE),\n",
        "    total_females = sum(females, na.rm = TRUE)\n",
        "  ) %>%\n",
        "  print()\n"
      ],
      "metadata": {
        "id": "yBq_RN_UcxGu",
        "colab": {
          "base_uri": "https://localhost:8080/"
        },
        "outputId": "716d2ec2-2f7a-4255-d792-50e94f21aca0"
      },
      "execution_count": 106,
      "outputs": [
        {
          "output_type": "stream",
          "name": "stdout",
          "text": [
            "# A tibble: 7 × 3\n",
            "  level              total_males total_females\n",
            "  <chr>                    <dbl>         <dbl>\n",
            "1 Bachelors                 6505          4999\n",
            "2 Certificate                171           151\n",
            "3 Diploma                   2522          3433\n",
            "4 Doctorate                   13             6\n",
            "5 Masters                    372           226\n",
            "6 Postgraduate Other          16             8\n",
            "7 <NA>                         0             0\n"
          ]
        }
      ]
    },
    {
      "cell_type": "markdown",
      "source": [
        "# **Read STEM, STI and ICT data**"
      ],
      "metadata": {
        "id": "Y5YA14yv4Haa"
      }
    },
    {
      "cell_type": "code",
      "source": [
        "%%R\n",
        "stemgrads <- read_csv(\"/content/drive/My Drive/NSTIP/STISTEMgraduates.csv\")"
      ],
      "metadata": {
        "colab": {
          "base_uri": "https://localhost:8080/"
        },
        "id": "WIiVtQBQ4LQa",
        "outputId": "fc11cd99-4d0f-416f-b7d6-7efaad4c9f5d"
      },
      "execution_count": null,
      "outputs": [
        {
          "output_type": "stream",
          "name": "stdout",
          "text": [
            "New names:\n",
            "• `` -> `...10`\n",
            "• `` -> `...11`\n",
            "• `` -> `...12`\n",
            "• `` -> `...13`\n",
            "• `` -> `...14`\n",
            "• `` -> `...15`\n",
            "• `` -> `...16`\n",
            "• `` -> `...17`\n",
            "• `` -> `...18`\n",
            "• `` -> `...19`\n",
            "• `` -> `...20`\n",
            "• `` -> `...21`\n",
            "• `` -> `...22`\n",
            "• `` -> `...23`\n",
            "• `` -> `...24`\n",
            "• `` -> `...25`\n",
            "• `` -> `...26`\n",
            "• `` -> `...27`\n",
            "Rows: 1196 Columns: 27\n",
            "── Column specification ────────────────────────────────────────────────────────\n",
            "Delimiter: \",\"\n",
            "chr  (8): PUBLIC INSTITUTION, PRIVATE INSTITUTUIN, STEM PROGRAM, STI PROGRAM...\n",
            "dbl  (2): NO.OF FEMALES, NO.OF MALES\n",
            "lgl (17): ...11, ...12, ...13, ...14, ...15, ...16, ...17, ...18, ...19, ......\n",
            "\n",
            "ℹ Use `spec()` to retrieve the full column specification for this data.\n",
            "ℹ Specify the column types or set `show_col_types = FALSE` to quiet this message.\n"
          ]
        }
      ]
    },
    {
      "cell_type": "code",
      "source": [],
      "metadata": {
        "id": "S3T95flK4PQF"
      },
      "execution_count": null,
      "outputs": []
    }
  ]
}