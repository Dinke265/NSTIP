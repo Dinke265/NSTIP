{
  "nbformat": 4,
  "nbformat_minor": 0,
  "metadata": {
    "colab": {
      "provenance": [],
      "authorship_tag": "ABX9TyPok/jlSbv2LFKA7JYqI4d4"
    },
    "kernelspec": {
      "name": "python3",
      "display_name": "Python 3"
    },
    "language_info": {
      "name": "python"
    }
  },
  "cells": [
    {
      "cell_type": "code",
      "execution_count": null,
      "metadata": {
        "id": "-9go3DcMEMlr"
      },
      "outputs": [],
      "source": [
        "!pip install rpy2"
      ]
    },
    {
      "cell_type": "code",
      "source": [
        "%load_ext rpy2.ipython\n"
      ],
      "metadata": {
        "id": "gzWt5bszEVpI"
      },
      "execution_count": 5,
      "outputs": []
    },
    {
      "cell_type": "code",
      "source": [
        "from google.colab import drive\n",
        "drive.mount('/content/drive/')"
      ],
      "metadata": {
        "colab": {
          "base_uri": "https://localhost:8080/"
        },
        "id": "t0QCyeY_IHRT",
        "outputId": "fe4ab6c6-efc8-4d0d-803a-d344de35e6de"
      },
      "execution_count": 6,
      "outputs": [
        {
          "output_type": "stream",
          "name": "stdout",
          "text": [
            "Drive already mounted at /content/drive/; to attempt to forcibly remount, call drive.mount(\"/content/drive/\", force_remount=True).\n"
          ]
        }
      ]
    },
    {
      "cell_type": "code",
      "source": [
        "%cd /content/drive/My Drive/NSTIP/"
      ],
      "metadata": {
        "colab": {
          "base_uri": "https://localhost:8080/"
        },
        "id": "pS2s3s1oIlDk",
        "outputId": "d01efab3-06a4-4d70-ab51-c5e3477df463"
      },
      "execution_count": 7,
      "outputs": [
        {
          "output_type": "stream",
          "name": "stdout",
          "text": [
            "/content/drive/My Drive/NSTIP\n"
          ]
        }
      ]
    },
    {
      "cell_type": "code",
      "source": [
        "%%R\n",
        "\n",
        "install.packages(\"tidyverse\")\n",
        "install.packages(\"dplyr\")\n",
        "install.packages(\"readr\")\n",
        "install.packages(\"visdat\")\n",
        "install.packages(\"ggplot2\")\n",
        "install.packages(\"scales\")\n",
        "install.packages(\"viridis\")\n",
        " # For percent_format()\n",
        "\n",
        "library(tidyverse)\n",
        "library(dplyr)\n",
        "library(readr)\n",
        "library(visdat)\n",
        "library(scales)\n",
        "library(viridis)"
      ],
      "metadata": {
        "id": "hkw2JmUW9gul"
      },
      "execution_count": null,
      "outputs": []
    },
    {
      "cell_type": "code",
      "source": [
        "%%R\n",
        "allgradsdata <- read_csv(\"/content/drive/My Drive/NSTIP/AllGraduatesData2022.csv\")\n",
        "stemgrads <- read_csv(\"/content/drive/My Drive/NSTIP/STEMgraduates.csv\")\n",
        "head(allgradsdata)"
      ],
      "metadata": {
        "id": "293goozpIpTn"
      },
      "execution_count": null,
      "outputs": []
    },
    {
      "cell_type": "code",
      "source": [
        "%%R\n",
        "head(stemgrads)\n",
        "\n",
        "names(stemgrads) <- tolower(names(stemgrads))\n",
        "\n",
        "print(names(stemgrads))"
      ],
      "metadata": {
        "id": "T7HEi3prKQsq"
      },
      "execution_count": null,
      "outputs": []
    },
    {
      "cell_type": "code",
      "source": [
        "%%R\n",
        "# Print the unique categories for the level\n",
        "print(unique(stemgrads$level))\n"
      ],
      "metadata": {
        "id": "nqp8maATLB9t"
      },
      "execution_count": null,
      "outputs": []
    },
    {
      "cell_type": "code",
      "source": [
        "%%R\n",
        "#Clean the level variable\n",
        "\n",
        "stemgrads <- stemgrads %>%\n",
        "  mutate(level = case_when(\n",
        "    level == \"Degree\" ~ \"Bachelors\",\n",
        "    level == \"Degree Level\" ~ \"Bachelors\",\n",
        "    level == \"Undergraduate\" ~ \"Bachelors\",\n",
        "    level == \"BACHELOR'S\" ~ \"Bachelors\",\n",
        "    level == \"DEGREE\" ~ \"Bachelors\",\n",
        "    level == \"Bachelor's degree\" ~ \"Bachelors\",\n",
        "    level == \"Bacherors\" ~ \"Bachelors\",\n",
        "    level == \"Bacheror\" ~ \"Bachelors\",\n",
        "    level == \"Bacheros\" ~ \"Bachelors\",\n",
        "    level == \"Masters Level\" ~ \"Masters\",\n",
        "    level == \"MASTERS DEGREE\" ~ \"Masters\",\n",
        "    level == \"UNDERGRADUATE\" ~ \"Bachelors\",\n",
        "    level == \"MASTER'S\" ~ \"Masters\",\n",
        "    level == \"Diploma Level\" ~ \"Diploma\",\n",
        "    level == \"Foundetion Diploma\" ~ \"Diploma\",\n",
        "    level == \"Diploma Level 5\" ~ \"Diploma\",\n",
        "    level == \"NCC LEVEL 5 DIPLOMA\" ~ \"Diploma\",\n",
        "    level == \"NCC LEVEL 4 DIPLOMA\" ~ \"Diploma\",\n",
        "    level == \"diploma\" ~ \"Diploma\",\n",
        "    level == \"DIPLOMA\" ~ \"Diploma\",\n",
        "    level == \"Level 4\" ~ \"Diploma\",\n",
        "    level == \"Dipoma\" ~ \"Diploma\",\n",
        "    level == \"Level 6\" ~ \"Bachelors\",\n",
        "    level == \"Chichewa Program\" ~ \"Certificate\",\n",
        "    level == \"English Program\" ~ \"Certificate\",\n",
        "    level == \"CERTIFICATE\" ~ \"Certificate\",\n",
        "    level == \"PhD\" ~ \"Doctorate\",\n",
        "    level == \"Doctors\" ~ \"Doctorate\",\n",
        "    level == \"7\" ~ \"Bachelors\",\n",
        "    level == \"9\" ~ \"Masters\",\n",
        "    level == \"10\" ~ \"Doctorate\",\n",
        "    level == \"PHD\" ~ \"Doctorate\",\n",
        "    level == \"4\" ~ \"Certificate\",\n",
        "    level == \"certificate\" ~ \"Certificate\",\n",
        "    level == \"5\" ~ \"Diploma\",\n",
        "    level == \"6\" ~ \"Diploma\",\n",
        "     level == \"Diplomas\" ~ \"Diploma\",\n",
        "    level == \"Post Graduate\" ~ \"Masters\",\n",
        "    level == \"Postgraduate\" ~ \"Masters\",\n",
        "    level == \"CA Level 1\" ~ \"Diploma\",\n",
        "    level == \"Postgraduate Diploma Level\" ~ \"Postgraduate Other\",\n",
        "    TRUE ~ as.character(level)\n",
        "  ))\n"
      ],
      "metadata": {
        "id": "t1THM3vdP7XY"
      },
      "execution_count": 153,
      "outputs": []
    },
    {
      "cell_type": "code",
      "source": [
        "%%R\n",
        "print(unique(stemgrads$level)) # Check the categories for the level have been correctly replaced"
      ],
      "metadata": {
        "id": "SL2jQbozQQIl"
      },
      "execution_count": null,
      "outputs": []
    },
    {
      "cell_type": "code",
      "source": [
        "%%R\n",
        "#Renaming some variables\n",
        "stemgrads <- stemgrads%>%\n",
        "  rename(\n",
        "    program_type = `prog_indicator...3`)\n",
        "\n",
        "print(names(stemgrads))"
      ],
      "metadata": {
        "id": "-i6V8mLpV4ww"
      },
      "execution_count": null,
      "outputs": []
    },
    {
      "cell_type": "markdown",
      "source": [
        "Creating an indicator variable for institution type.\n",
        "1= public institution\n",
        "0= private institution"
      ],
      "metadata": {
        "id": "jVbav7-rYAjL"
      }
    },
    {
      "cell_type": "code",
      "source": [
        "%%R\n",
        "\n",
        "stemgrads <- stemgrads %>%\n",
        "  mutate(\n",
        "    institution_type = case_when(\n",
        "      !is.na(public) ~ 1,\n",
        "      !is.na(private) ~ 0,\n",
        "      TRUE ~ NA_integer_\n",
        "    )\n",
        "  )\n",
        "\n",
        "stemgrads <- stemgrads %>%\n",
        "  mutate(row_id = row_number()) %>%\n",
        "  pivot_longer(cols = c(private, public), names_to = \"type_institution\", values_to = \"institution_value\") %>%\n",
        "  filter(!is.na(institution_value)) %>%\n",
        "  mutate(institution_type = ifelse(institution_type == \"public\", 1, 0)) %>%\n",
        "  select(-row_id)"
      ],
      "metadata": {
        "id": "m4E9PGmEY4Jg"
      },
      "execution_count": 155,
      "outputs": []
    },
    {
      "cell_type": "markdown",
      "source": [
        "# **consolidate programs**"
      ],
      "metadata": {
        "id": "dXAq1IWk6cK8"
      }
    },
    {
      "cell_type": "code",
      "source": [
        "%%R\n",
        "stemgrads <- stemgrads %>%\n",
        "  mutate(all_programs = coalesce(stem, sti, ict, `miscellaneous programs`))\n",
        "\n",
        "#print(stemgrads$all_programs)"
      ],
      "metadata": {
        "id": "1HNMNSWJ6fA4"
      },
      "execution_count": 156,
      "outputs": []
    },
    {
      "cell_type": "code",
      "source": [
        "%%R\n",
        "install.packages(\"stringr\")\n",
        "library(stringr)"
      ],
      "metadata": {
        "id": "yoZGQezR9j_2"
      },
      "execution_count": null,
      "outputs": []
    },
    {
      "cell_type": "code",
      "source": [
        "%%R\n",
        "stemgrads <- stemgrads %>%\n",
        "  mutate(all_programs = tolower(all_programs))"
      ],
      "metadata": {
        "id": "d7h3FxGAHVQ4"
      },
      "execution_count": 157,
      "outputs": []
    },
    {
      "cell_type": "code",
      "source": [
        "%%R\n",
        "stemgrads <- stemgrads%>%\n",
        "    mutate(program_type= case_when(\n",
        "        program_type ==1 ~ \"STEM\",\n",
        "        program_type ==2 ~ \"ICT\",\n",
        "        program_type ==3 ~ \"STI\",\n",
        "        program_type ==4 ~ \"Humanities, Arts and Social Sciences\",\n",
        "    ))\n",
        "\n",
        "  #Rename institutions properly\n",
        " stemgrads <- stemgrads%>%\n",
        "    mutate(\"institution_value\"= case_when(\n",
        "        institution_value ==\"DOMASI College of EDU\" ~ \"Domasi College of Education\",\n",
        "        institution_value ==\"Malawi College of health Sciences\" ~ \"Malawi College of Health Sciences\",\n",
        "        institution_value ==\"MIM\" ~ \"Malawi Institute of Management\",\n",
        "        institution_value ==\"NACT BT College\" ~ \"NACIT\",\n",
        "        institution_value ==\"NACT LLZ College\" ~ \"NACIT\",\n",
        "        institution_value ==\"NALIKULE College of EDU\" ~ \"Nalikule College of Education\",\n",
        "    ))"
      ],
      "metadata": {
        "id": "S1S9xAn6HuXk"
      },
      "execution_count": 158,
      "outputs": []
    },
    {
      "cell_type": "code",
      "source": [
        "%%R\n",
        "\n",
        "stemgrads <- stemgrads %>%\n",
        "  mutate(main_course = case_when(\n",
        "    program_type %in% c(\"ICT\", \"STEM\", \"STI\") & str_detect(all_programs, \"mathematics|mathematical\") ~ \"Mathematics\",\n",
        "    program_type %in% c(\"ICT\", \"STEM\", \"STI\") & str_detect(all_programs, \"engineering\") ~ \"Engineering\",\n",
        "    program_type %in% c(\"ICT\", \"STEM\", \"STI\") & str_detect(all_programs, \"statistics\") ~ \"Statistics\",\n",
        "     program_type %in% c(\"ICT\", \"STEM\", \"STI\") & str_detect(all_programs, \"education|edu\") ~ \"Education sciences\",\n",
        "    program_type %in% c(\"ICT\", \"STEM\", \"STI\") & str_detect(all_programs, \"information systems|computer|computing|information|technology|ict|innovation|geoinformatics|technologies\") ~ \"Information Systems\",\n",
        "    program_type %in% c(\"ICT\", \"STEM\", \"STI\") & str_detect(all_programs, \"agriculture|agro|seed|culture|agricultural|aquaculture|fisheries|extension\") ~ \"Agricultural Sciences\",\n",
        "    program_type %in% c(\"ICT\", \"STEM\", \"STI\") & str_detect(all_programs, \"biomedical|health|surgery|medicine|pharmacy|epidemiology|antimicrobial|radiography|opthalmology|dental|optometry|anaesthesia|orthopaedics|gynaecology|otorhinolaryngology|laboratory|physiotherapy|palliative\") ~ \"Health Sciences\",\n",
        "    program_type %in% c(\"ICT\", \"STEM\", \"STI\") & str_detect(all_programs, \"physics|water|nutrition|soil|animal|forestry|crop|earth|geology|food|ecology|che|chemistry|climate|environmental\") ~ \"Natural Sciences\",\n",
        "    program_type %in% c(\"ICT\", \"STEM\", \"STI\") & str_detect(all_programs, \"bio|parasitology|nutrition|veterinary|`education (science)`\") ~ \"Life Sciences\",\n",
        "    TRUE ~ NA_character_\n",
        "  ))\n",
        "\n",
        "print(unique(stemgrads$main_course))"
      ],
      "metadata": {
        "id": "KTHrQxkgGaB8"
      },
      "execution_count": null,
      "outputs": []
    },
    {
      "cell_type": "code",
      "source": [
        "%%R\n",
        "stemgradsna <- stemgrads %>%\n",
        "  filter(is.na(main_course) & program_type %in% c(\"ICT\", \"STEM\", \"STI\"))\n",
        "\n",
        "print(unique(stemgradsna$all_programs))"
      ],
      "metadata": {
        "colab": {
          "base_uri": "https://localhost:8080/"
        },
        "id": "QVR7pFDRFwvb",
        "outputId": "8a9c5f77-60e8-439a-f237-27336ec74059"
      },
      "execution_count": 166,
      "outputs": [
        {
          "output_type": "stream",
          "name": "stdout",
          "text": [
            "[1] \"diploma in land administration\" \"c\"                             \n"
          ]
        }
      ]
    },
    {
      "cell_type": "code",
      "source": [
        "%%R\n",
        "#check categorization\n",
        "filtered_programs <- stemgrads %>%\n",
        "  filter(str_detect(main_course, \"Natural Sciences\"))\n",
        "\n",
        "print(filtered_programs[, c(\"all_programs\", \"main_course\")])\n"
      ],
      "metadata": {
        "id": "iw7w2WsRQSiL"
      },
      "execution_count": null,
      "outputs": []
    },
    {
      "cell_type": "code",
      "source": [
        "%%R\n",
        "#stemgrads <- stemgrads[order(stemgrads$institution_value), ]\n",
        "#write.csv(stemgrads, \"stemgradsdata.csv\", row.names = TRUE)\n",
        "\n",
        "filtered_programs <- filtered_programs[order(filtered_programs$main_course), ]\n",
        "write.csv(filtered_programs, \"maincoursedata.csv\", row.names = TRUE)\n"
      ],
      "metadata": {
        "id": "cR4EfkRzZSSD"
      },
      "execution_count": 171,
      "outputs": []
    },
    {
      "cell_type": "markdown",
      "source": [
        "# **Check missingness**"
      ],
      "metadata": {
        "id": "GsydQVlpFrcq"
      }
    },
    {
      "cell_type": "code",
      "source": [
        "%%R\n",
        "stemgradsdata <- stemgrads[c(\"program_type\",\"males\", \"females\",\"level\", \"type_institution\",\n",
        "                         \"institution_value\")]"
      ],
      "metadata": {
        "id": "QI5IsVz0Fuez"
      },
      "execution_count": 96,
      "outputs": []
    },
    {
      "cell_type": "code",
      "source": [],
      "metadata": {
        "id": "N5epgQonGvaQ"
      },
      "execution_count": 99,
      "outputs": []
    },
    {
      "cell_type": "code",
      "source": [
        "%%R\n",
        "missingness<- sapply(stemgradsdata, function(x) sum(is.na(x)))\n",
        "print(missingness)\n"
      ],
      "metadata": {
        "id": "CUfmU-R3IUw_"
      },
      "execution_count": null,
      "outputs": []
    },
    {
      "cell_type": "code",
      "source": [
        "%%R\n",
        "rows_with_na <- apply(is.na(stemgradsdata), 1, any)\n",
        "\n",
        "observations_with_missing <- stemgradsdata[rows_with_na, ]\n",
        "\n",
        "print(observations_with_missing)\n",
        "\n",
        "# Convert to data frame\n",
        "missing_values <- as.data.frame(t(missingness))\n",
        "names(missing_values) <- c(\"Missing_Values\")"
      ],
      "metadata": {
        "id": "47Dt-hp_M0zF"
      },
      "execution_count": null,
      "outputs": []
    },
    {
      "cell_type": "code",
      "source": [
        "%%R\n",
        "#check for outliers, assume any numbers greater 300 need to be checked\n",
        "outliers_males <- sum(stemgradsdata$males > 300, na.rm = TRUE)\n",
        "outliers_females <- sum(stemgradsdata$females > 300, na.rm = TRUE)\n",
        "\n",
        "# Combine into a data frame\n",
        "outliers_summary <- data.frame(Variable = c(\"males\", \"females\"),\n",
        "                               Outliers = c(outliers_males, outliers_females))\n",
        "\n",
        "print(outliers_summary)\n",
        "# Filter rows that have any missing value\n",
        "rows_with_na <- apply(is.na(stemgradsdata), 1, any)\n",
        "observations_with_missing <- stemgradsdata[rows_with_na, ]\n",
        "\n",
        "# save CSV file\n",
        "write.csv(observations_with_missing, \"missing.csv\", row.names = FALSE)\n",
        "\n",
        "outliers <- stemgradsdata[(stemgradsdata$males > 300 & !is.na(stemgradsdata$males)) |\n",
        "                          (stemgradsdata$females > 300 & !is.na(stemgradsdata$females)), ]\n",
        "\n",
        "\n",
        "write.csv(outliers, \"outliers.csv\", row.names = FALSE)"
      ],
      "metadata": {
        "id": "6bvtPqExP89R"
      },
      "execution_count": null,
      "outputs": []
    },
    {
      "cell_type": "markdown",
      "source": [
        "# **Drop all rows missing numbers on males and females or any outliers** (To be reviewed)"
      ],
      "metadata": {
        "id": "WhnAH8tnVdrn"
      }
    },
    {
      "cell_type": "code",
      "source": [
        "%%R\n",
        "cleanedgrads_data <- stemgradsdata[!((is.na(stemgradsdata$males) | stemgradsdata$males > 300) |\n",
        "                                 (is.na(stemgradsdata$females) | stemgradsdata$females > 300)), ]\n",
        "# save clean data CSV file\n",
        "write.csv(cleanedgrads_data, \"cleangrads_data.csv\", row.names = FALSE)"
      ],
      "metadata": {
        "id": "bWLoNLZvVl35"
      },
      "execution_count": 119,
      "outputs": []
    },
    {
      "cell_type": "markdown",
      "source": [
        "# **Totals of all grads in 2022**"
      ],
      "metadata": {
        "id": "j7iJUDtaW7TH"
      }
    },
    {
      "cell_type": "code",
      "source": [
        "%%R\n",
        "\n",
        "cleanedgrads_data <- read_csv(\"/content/drive/My Drive/NSTIP/cleangrads_data.csv\")\n",
        "\n",
        "total2022<- cleanedgrads_data %>%\n",
        "  summarise(Total_Females = sum(females, na.rm = TRUE),\n",
        "            Total_Males = sum(males, na.rm = TRUE))\n",
        "print(total2022)"
      ],
      "metadata": {
        "colab": {
          "base_uri": "https://localhost:8080/"
        },
        "id": "8M7qOQTwW-cc",
        "outputId": "33ca265e-6f25-4384-a812-28f37760d1fa"
      },
      "execution_count": 9,
      "outputs": [
        {
          "output_type": "stream",
          "name": "stdout",
          "text": [
            "Rows: 530 Columns: 6\n",
            "── Column specification ────────────────────────────────────────────────────────\n",
            "Delimiter: \",\"\n",
            "chr (4): program_type, level, type_institution, institution_value\n",
            "dbl (2): males, females\n",
            "\n",
            "ℹ Use `spec()` to retrieve the full column specification for this data.\n",
            "ℹ Specify the column types or set `show_col_types = FALSE` to quiet this message.\n",
            "# A tibble: 1 × 2\n",
            "  Total_Females Total_Males\n",
            "          <dbl>       <dbl>\n",
            "1          7201        9534\n"
          ]
        }
      ]
    },
    {
      "cell_type": "markdown",
      "source": [
        "Number of females and males by program type"
      ],
      "metadata": {
        "id": "sRhZPhwYXSHs"
      }
    },
    {
      "cell_type": "code",
      "source": [
        "%%R\n",
        "totalbyprogram <- cleanedgrads_data %>%\n",
        "    group_by(program_type) %>%\n",
        "    summarise(\n",
        "      total_females = sum(females),\n",
        "      total_males = sum(males),\n",
        "      total_combined = sum(females, na.rm = TRUE) + sum(males, na.rm = TRUE)\n",
        "  )\n",
        "print(totalbyprogram)\n",
        "\n",
        "overall_total <- sum(cleanedgrads_data$females, na.rm = TRUE) + sum(cleanedgrads_data$males, na.rm = TRUE)\n",
        "\n",
        "totalbyprogram <- cleanedgrads_data %>%\n",
        "  group_by(program_type) %>%\n",
        "  summarise(\n",
        "    total_fem = sum(females, na.rm = TRUE),\n",
        "    total_mal = sum(males, na.rm = TRUE),\n",
        "    total_combined = sum(females, na.rm = TRUE) + sum(males, na.rm = TRUE)\n",
        "  ) %>%\n",
        "  mutate(\n",
        "    percent_fem = (total_fem / total_combined) * 100,\n",
        "    percent_mal = (total_mal / total_combined) * 100,\n",
        "    percent_of_total = (total_combined / overall_total) * 100  # Calculate the percentage of each program type over the total\n",
        "  )\n",
        "\n",
        "print(totalbyprogram)\n"
      ],
      "metadata": {
        "colab": {
          "base_uri": "https://localhost:8080/"
        },
        "id": "HXz0SXTnXX3y",
        "outputId": "2d1e86bc-57ce-4ca9-a621-b51db2c1abe2"
      },
      "execution_count": 134,
      "outputs": [
        {
          "output_type": "stream",
          "name": "stdout",
          "text": [
            "# A tibble: 4 × 4\n",
            "  program_type                         total_females total_males total_combined\n",
            "  <chr>                                        <dbl>       <dbl>          <dbl>\n",
            "1 Humanities, Arts and Social Sciences          4818        4988           9806\n",
            "2 ICT                                            439        1032           1471\n",
            "3 STEM                                          1834        3203           5037\n",
            "4 STI                                            110         311            421\n",
            "# A tibble: 4 × 7\n",
            "  program_type        total_fem total_mal total_combined percent_fem percent_mal\n",
            "  <chr>                   <dbl>     <dbl>          <dbl>       <dbl>       <dbl>\n",
            "1 Humanities, Arts a…      4818      4988           9806        49.1        50.9\n",
            "2 ICT                       439      1032           1471        29.8        70.2\n",
            "3 STEM                     1834      3203           5037        36.4        63.6\n",
            "4 STI                       110       311            421        26.1        73.9\n",
            "# ℹ 1 more variable: percent_of_total <dbl>\n"
          ]
        }
      ]
    },
    {
      "cell_type": "markdown",
      "source": [
        "Numbers of males and females by degree level"
      ],
      "metadata": {
        "id": "psgqNt8Vcs6h"
      }
    },
    {
      "cell_type": "code",
      "source": [
        "%%R\n",
        "cleanedgrads_data %>%\n",
        "  group_by(level) %>%\n",
        "  summarise(\n",
        "    total_males = sum(males, na.rm = TRUE),\n",
        "    total_females = sum(females, na.rm = TRUE)\n",
        "  ) %>%\n",
        "  print()"
      ],
      "metadata": {
        "id": "yBq_RN_UcxGu",
        "colab": {
          "base_uri": "https://localhost:8080/"
        },
        "outputId": "3102703b-d954-4339-9ad4-7fdb4340a6d1"
      },
      "execution_count": 121,
      "outputs": [
        {
          "output_type": "stream",
          "name": "stdout",
          "text": [
            "# A tibble: 6 × 3\n",
            "  level              total_males total_females\n",
            "  <chr>                    <dbl>         <dbl>\n",
            "1 Bachelors                 6486          4990\n",
            "2 Certificate                171           151\n",
            "3 Diploma                   2476          1820\n",
            "4 Doctorate                   13             6\n",
            "5 Masters                    372           226\n",
            "6 Postgraduate Other          16             8\n"
          ]
        }
      ]
    },
    {
      "cell_type": "markdown",
      "source": [
        "**Gender comparisons by program type**"
      ],
      "metadata": {
        "id": "c81leI-hWc2B"
      }
    },
    {
      "cell_type": "code",
      "source": [
        "%%R\n",
        "library(ggplot2)\n",
        "\n",
        "#aggregate gender data\n",
        "gender_distribution <- cleanedgrads_data %>%\n",
        "  group_by(program_type) %>%\n",
        "  summarise(\n",
        "    total_fem = sum(females, na.rm = TRUE),\n",
        "    total_mal = sum(males, na.rm = TRUE)\n",
        "  ) %>%\n",
        "  mutate(total_combined = total_fem + total_mal) %>%\n",
        "  pivot_longer(cols = c(total_fem, total_mal), names_to = \"gender\", values_to = \"count\") %>%\n",
        "  mutate(\n",
        "    gender = recode(gender, \"total_fem\" = \"Females\", \"total_mal\" = \"Males\"),\n",
        "    percentage = count / total_combined * 100\n",
        "  ) %>%\n",
        "  select(-total_combined)\n",
        "\n",
        "# # Plotting\n",
        "# ggplot(gender_distribution, aes(x = program_type, y = count, fill = gender)) +\n",
        "#   geom_bar(stat = \"identity\", position = \"fill\") +\n",
        "#    geom_text(aes(label = scales::percent(..prop.., accuracy = 0.1),\n",
        "#                 y = ..prop.. * ..count..),\n",
        "#             stat = \"count\", position = position_fill(vjust = 0.5),\n",
        "#             size = 3.5, color = \"black\") +\n",
        "#   scale_fill_manual(values = c(\"Females\" = \"Orange\", \"Males\" = \"darkcyan\")) +\n",
        "#   labs(title = \"Gender Distribution by Program Type\",\n",
        "#        x = \"Program Type\",\n",
        "#        y = \"Proportion\",\n",
        "#        fill = \"Gender\") +\n",
        "#   theme_minimal() +\n",
        "#   theme(axis.text.x = element_text(angle = 45, hjust = 1),\n",
        "#     strip.text = element_text(face=\"bold\", size=16),\n",
        "#     axis.title = element_text(size=16, face=\"bold\"),\n",
        "#     axis.text = element_text(size=16, face=\"bold\"),\n",
        "#     legend.title = element_text(size=14, face=\"bold\"),\n",
        "#     legend.text = element_text(size=14)\n",
        "#   )\n",
        "\n",
        "# Plotting\n",
        "ggplot(gender_distribution, aes(x = program_type, y = count, fill = gender)) +\n",
        "  geom_bar(stat = \"identity\", position = \"fill\") +\n",
        "  geom_text(aes(label = paste0(sprintf(\"%.1f%%\", percentage)),\n",
        "                y = cumsum(count) - 0.5 * count),\n",
        "            position = position_fill(vjust = 0.5),\n",
        "            size = 3.5, color = \"black\") +\n",
        "  scale_fill_manual(values = c(\"Females\" = \"Orange\", \"Males\" = \"darkcyan\")) +\n",
        "  labs(title = \"Gender Distribution by Program Type\",\n",
        "       x = \"Program Type\",\n",
        "       y = \"Proportion\",\n",
        "       fill = \"Gender\") +\n",
        "  theme_minimal() +\n",
        "  theme(axis.text.x = element_text(angle = 45, hjust = 1),\n",
        "        strip.text = element_text(face=\"bold\", size=16),\n",
        "        axis.title = element_text(size=16, face=\"bold\"),\n",
        "        axis.text = element_text(size=16, face=\"bold\"),\n",
        "        plot.title = element_text(size=16, face=\"bold\"),\n",
        "        legend.title = element_text(size=14, face=\"bold\"),\n",
        "        legend.text = element_text(size=14))\n"
      ],
      "metadata": {
        "colab": {
          "base_uri": "https://localhost:8080/",
          "height": 497
        },
        "id": "NoUItGbacnwT",
        "outputId": "18c53768-08ff-4cec-ff96-e7eb0e0ceba4"
      },
      "execution_count": 16,
      "outputs": [
        {
          "output_type": "display_data",
          "data": {
            "image/png": "[encoded data removed]"
          },
          "metadata": {}
        }
      ]
    },
    {
      "cell_type": "markdown",
      "source": [
        "**Gender comparisons by level**"
      ],
      "metadata": {
        "id": "OXM9HFYPir5w"
      }
    },
    {
      "cell_type": "code",
      "source": [
        "%%R\n",
        "library(ggplot2)\n",
        "\n",
        "#aggregate gender data\n",
        "gender_distribution <- cleanedgrads_data %>%\n",
        "  group_by(level) %>%\n",
        "  summarise(\n",
        "    total_fem = sum(females, na.rm = TRUE),\n",
        "    total_mal = sum(males, na.rm = TRUE)\n",
        "  ) %>%\n",
        "  mutate(total_combined = total_fem + total_mal) %>%\n",
        "  pivot_longer(cols = c(total_fem, total_mal), names_to = \"gender\", values_to = \"count\") %>%\n",
        "  mutate(\n",
        "    gender = recode(gender, \"total_fem\" = \"Females\", \"total_mal\" = \"Males\"),\n",
        "    percentage = count / total_combined * 100\n",
        "  ) %>%\n",
        "  select(-total_combined)\n",
        "\n",
        "  # Convert facility_id to a factor if it's not already\n",
        "gender_distribution$level <- factor(gender_distribution$level)\n",
        "\n",
        "levels(gender_distribution$level) <- c(\"Certificate\", \"Diploma\",\n",
        "                                        \"Bachelors\", \"Masters\", \"Doctorate\", \"Postgraduate Other\")\n",
        "\n",
        "# Check to ensure the levels are correctly updated\n",
        "print(levels(gender_distribution$level))\n",
        "\n",
        "# Plotting\n",
        "ggplot(gender_distribution, aes(x = level, y = count, fill = gender)) +\n",
        "  geom_bar(stat = \"identity\", position = \"fill\") +\n",
        "  geom_text(aes(label = paste0(sprintf(\"%.1f%%\", percentage)),\n",
        "                y = cumsum(count) - 0.5 * count),\n",
        "            position = position_fill(vjust = 0.5),\n",
        "            size = 3.5, color = \"black\") +\n",
        "  scale_fill_manual(values = c(\"Females\" = \"Orange\", \"Males\" = \"darkcyan\")) +\n",
        "  labs(title = \"Gender Distribution by Degree Level\",\n",
        "       x = \"Degree Level\",\n",
        "       y = \"Percentage\",\n",
        "       fill = \"Gender\") +\n",
        "  theme_minimal() +\n",
        "  theme(axis.text.x = element_text(angle = 45, hjust = 1),\n",
        "        strip.text = element_text(face=\"bold\", size=16),\n",
        "        axis.title = element_text(size=16, face=\"bold\"),\n",
        "        axis.text = element_text(size=16, face=\"bold\"),\n",
        "        plot.title = element_text(size=16, face=\"bold\"),\n",
        "        legend.title = element_text(size=14, face=\"bold\"),\n",
        "        legend.text = element_text(size=14))\n",
        "\n"
      ],
      "metadata": {
        "colab": {
          "base_uri": "https://localhost:8080/",
          "height": 532
        },
        "id": "EC_SBMZdeedM",
        "outputId": "7b561485-75eb-4077-c273-b95ecb51748b"
      },
      "execution_count": 20,
      "outputs": [
        {
          "output_type": "stream",
          "name": "stdout",
          "text": [
            "[1] \"Certificate\"        \"Diploma\"            \"Bachelors\"         \n",
            "[4] \"Masters\"            \"Doctorate\"          \"Postgraduate Other\"\n"
          ]
        },
        {
          "output_type": "display_data",
          "data": {
            "image/png": "[encoded data removed]"
          },
          "metadata": {}
        }
      ]
    },
    {
      "cell_type": "markdown",
      "source": [],
      "metadata": {
        "id": "9LaAjnPLlUpJ"
      }
    },
    {
      "cell_type": "code",
      "source": [
        "%%R\n",
        "\n",
        "gender_distribution_inst <- cleanedgrads_data %>%\n",
        "  group_by(program_type, type_institution) %>%\n",
        "  summarise(\n",
        "    total_fem = sum(females, na.rm = TRUE),\n",
        "    total_mal = sum(males, na.rm = TRUE)\n",
        "  ) %>%\n",
        "  mutate(total_combined = total_fem + total_mal) %>%\n",
        "  pivot_longer(cols = c(total_fem, total_mal), names_to = \"gender\", values_to = \"count\") %>%\n",
        "  mutate(\n",
        "    gender = recode(gender, \"total_fem\" = \"Females\", \"total_mal\" = \"Males\"),\n",
        "    percentage = count / total_combined * 100\n",
        "  ) %>%\n",
        "  select(-total_combined)\n"
      ],
      "metadata": {
        "id": "DO-bKVVGlVfH"
      },
      "execution_count": null,
      "outputs": []
    },
    {
      "cell_type": "code",
      "source": [
        "%%R\n",
        "ggplot(gender_distribution_inst, aes(x = type_institution, y = count, fill = gender)) +\n",
        "  geom_bar(stat = \"identity\", position = \"fill\") +\n",
        "  facet_wrap(~program_type, scales = \"free_x\", ncol = 2) +\n",
        "    geom_text(aes(label = paste0(sprintf(\"%.1f%%\", percentage)),\n",
        "                y = cumsum(count) - 0.5 * count),\n",
        "            position = position_fill(vjust = 0.5),\n",
        "            size = 3.5, color = \"black\") +\n",
        "  scale_fill_manual(values = c(\"Females\" = \"Orange\", \"Males\" = \"darkcyan\")) +\n",
        "  labs(title = \"Gender Distribution by Program and Institution Type\",\n",
        "       x = \"Institution Type\",\n",
        "       y = \"Proportion\",\n",
        "       fill = \"Gender\") +\n",
        "  theme_minimal() +\n",
        "  theme(axis.text.x = element_text(angle = 45, hjust = 1),\n",
        "        strip.text.x = element_text(size = 10, face = \"bold\"),\n",
        "        plot.title = element_text(size = 14, face = \"bold\"),\n",
        "        legend.title = element_text(size = 12, face = \"bold\"),\n",
        "        legend.text = element_text(size = 12))\n"
      ],
      "metadata": {
        "colab": {
          "base_uri": "https://localhost:8080/",
          "height": 497
        },
        "id": "MGNeZuJPmC8L",
        "outputId": "953078bb-7b3b-4420-e78b-1c1a4d388f02"
      },
      "execution_count": 27,
      "outputs": [
        {
          "output_type": "display_data",
          "data": {
            "image/png": "[encoded data removed]"
          },
          "metadata": {}
        }
      ]
    },
    {
      "cell_type": "code",
      "source": [
        "%%R\n",
        "ggplot(gender_distribution_inst, aes(x = gender, y = count, fill = type_institution)) +\n",
        "  geom_bar(stat = \"identity\", position = \"fill\") +\n",
        "  facet_wrap(~program_type, scales = \"free_x\", ncol = 2) +\n",
        "    geom_text(aes(label = paste0(sprintf(\"%.1f%%\", percentage)),\n",
        "                y = cumsum(count) - 0.5 * count),\n",
        "            position = position_fill(vjust = 0.8),\n",
        "            size = 3.5, color = \"black\") +\n",
        "  scale_fill_manual(values = c(\"public\" = \"Orange\", \"private\" = \"darkcyan\")) +\n",
        "  labs(title = \"Gender Distribution by Program and Institution Type\",\n",
        "       x = \"Institution Type\",\n",
        "       y = \"Proportion\",\n",
        "       fill = \"type_institution\") +\n",
        "  theme_minimal() +\n",
        "  theme(axis.text.x = element_text(angle = 45, hjust = 1),\n",
        "        strip.text.x = element_text(size = 10, face = \"bold\"),\n",
        "        plot.title = element_text(size = 14, face = \"bold\"),\n",
        "        legend.title = element_text(size = 12, face = \"bold\"),\n",
        "        legend.text = element_text(size = 12))\n"
      ],
      "metadata": {
        "colab": {
          "base_uri": "https://localhost:8080/",
          "height": 497
        },
        "id": "vYnRdyKom41f",
        "outputId": "23a5e93f-d877-48b9-a16b-eea8deae5366"
      },
      "execution_count": 32,
      "outputs": [
        {
          "output_type": "display_data",
          "data": {
            "image/png": "[encoded data removed]"
          },
          "metadata": {}
        }
      ]
    },
    {
      "cell_type": "code",
      "source": [
        "# %%R\n",
        "\n",
        "# ggplot(gender_distribution_inst, aes(x = program_type, y = count, fill = gender)) +\n",
        "#   geom_bar(stat = \"identity\", position = position_dodge(width = 0.7), width = 0.6) +\n",
        "#   facet_wrap(~type_institution, scales = \"free_x\", nrow = 1) +\n",
        "#   scale_fill_manual(values = c(\"Females\" = \"#FFA07A\", \"Males\" = \"#20B2AA\")) +\n",
        "#   labs(title = \"Gender Distribution by Program Type and Institution Type\",\n",
        "#        x = \"Program Type\",\n",
        "#        y = \"Count\",\n",
        "#        fill = \"Gender\") +\n",
        "#   theme_minimal() +\n",
        "#   theme(axis.text.x = element_text(angle = 45, hjust = 1, size = 10),\n",
        "#         strip.text.x = element_text(size = 10, face = \"bold\"),\n",
        "#         plot.title = element_text(size = 14, face = \"bold\"),\n",
        "#         legend.title = element_text(size = 12, face = \"bold\"),\n",
        "#         legend.text = element_text(size = 12),\n",
        "#         axis.title = element_text(size = 12, face = \"bold\"))\n"
      ],
      "metadata": {
        "id": "tAThJpqNnpQJ"
      },
      "execution_count": null,
      "outputs": []
    },
    {
      "cell_type": "markdown",
      "source": [
        "# **Institution with the most graduates for both \"STEM\" and \"STI\" program types**"
      ],
      "metadata": {
        "id": "jB9cdAE1pLU1"
      }
    },
    {
      "cell_type": "code",
      "source": [
        "%%R\n",
        "\n",
        "total_graduates <- cleanedgrads_data %>%\n",
        "  group_by(institution_value, program_type) %>%\n",
        "  summarise(total_graduates = sum(females, na.rm = TRUE) + sum(males, na.rm = TRUE))\n",
        "\n",
        "# Filtering for STEM, STI Aand ICT program types only\n",
        "filtered_graduates <- total_graduates %>%\n",
        "  filter(program_type %in% c(\"STEM\", \"STI\", \"ICT\"))\n"
      ],
      "metadata": {
        "colab": {
          "base_uri": "https://localhost:8080/"
        },
        "id": "A7dvI5eIpPWk",
        "outputId": "919e435d-7ec0-4d3f-9f6f-6376c7ebd090"
      },
      "execution_count": 34,
      "outputs": [
        {
          "output_type": "stream",
          "name": "stdout",
          "text": [
            "`summarise()` has grouped output by 'institution_value'. You can override using\n",
            "the `.groups` argument.\n"
          ]
        }
      ]
    },
    {
      "cell_type": "code",
      "source": [
        "# Identifying the top institution for each program type based on total graduates\n",
        "%%R\n",
        "top_institutions <- filtered_graduates %>%\n",
        "  arrange(desc(total_graduates)) %>%\n",
        "  group_by(program_type) %>%\n",
        "  slice(1)\n",
        "\n",
        "install.packages(\"viridis\")\n",
        "library(viridis)\n",
        "\n",
        "# Visualization\n",
        "p<-ggplot(filtered_graduates, aes(x = institution_value, y = total_graduates, fill = program_type)) +\n",
        "  geom_bar(stat = \"identity\", position = \"stack\") +\n",
        "  labs(title = \"Distribution of Program Type by Institution\",\n",
        "       x = \"Institution\",\n",
        "       y = \"Total Graduates\",\n",
        "       fill = \"Program Type\") +\n",
        "       coord_flip() +\n",
        "       scale_colour_viridis_d() +\n",
        "       scale_y_continuous(breaks = seq(0, max(filtered_graduates$total_graduates), by = 300)) + # Adjust scale for y (flipped to x)\n",
        "  theme_minimal() +\n",
        "  theme(axis.text.x = element_text(angle = 45, hjust = 1, size = 14),\n",
        "        axis.text.y = element_text(size = 14),\n",
        "        axis.title.y = element_text(size = 15),\n",
        "        axis.title.x = element_text(size = 15),\n",
        "        plot.title = element_text(size = 14, face = \"bold\"),\n",
        "        legend.title = element_text(size = 14, face = \"bold\"),\n",
        "        legend.text = element_text(size = 14))\n",
        "\n",
        "# Saving the plot to a specific file with desired dimensions\n",
        "ggsave(\"ProgramByInstitution.png\", plot = p, width = 10, height = 6, dpi = 300)"
      ],
      "metadata": {
        "id": "jR4uLePrpoqL"
      },
      "execution_count": null,
      "outputs": []
    },
    {
      "cell_type": "code",
      "source": [
        "# Ordering based on the total graduates for 'STI'\n",
        "%%R\n",
        "sti_graduates <- filtered_graduates %>%\n",
        "  filter(program_type == \"STEM\")\n",
        "\n",
        "institution_order <- sti_graduates %>%\n",
        "  arrange(desc(total_graduates)) %>%\n",
        "  mutate(institution_value = factor(institution_value, levels = unique(institution_value)))\n",
        "\n",
        "filtered_graduates_ordered <- filtered_graduates %>%\n",
        "  mutate(institution_value = factor(institution_value, levels = institution_order$institution_value))\n",
        "\n",
        "#Replace NA with NACIT\n",
        "filtered_graduates_ordered  <- filtered_graduates_ordered %>%\n",
        "  mutate(institution_value = case_when(\n",
        "    is.na(institution_value) ~ \"NACIT\",\n",
        "    TRUE ~ institution_value\n",
        "  ))\n",
        "\n",
        "\n",
        "  # plot\n",
        "s<- ggplot(filtered_graduates_ordered, aes(x = institution_value, y = total_graduates, fill = program_type)) +\n",
        "  geom_bar(stat = \"identity\", position = \"stack\") +\n",
        "  coord_flip() +\n",
        "  scale_fill_brewer(palette = \"Set1\") +\n",
        "  scale_y_continuous(breaks = seq(0, max(filtered_graduates$total_graduates), by = 300)) +\n",
        "  labs(title = \"Distribution of Program Type by Institution\",\n",
        "       x = \"Institution\",\n",
        "       y = \"Total Graduates\",\n",
        "       fill = \"Program Type\") +\n",
        "  theme_minimal() +\n",
        "  theme(axis.text.x = element_text(angle = 45, hjust = 1, size = 14),\n",
        "        axis.text.y = element_text(size = 14),\n",
        "        axis.title.y = element_text(size = 15),\n",
        "        axis.title.x = element_text(size = 15),\n",
        "        plot.title = element_text(size = 14, face = \"bold\"),\n",
        "        legend.title = element_text(size = 14, face = \"bold\"),\n",
        "        legend.text = element_text(size = 14))\n",
        "  s\n",
        "  ggsave(\"ProgramByInstitution2.png\", plot = s, width = 10, height = 6, dpi = 300)"
      ],
      "metadata": {
        "id": "RdwK4xGfwo5s"
      },
      "execution_count": 86,
      "outputs": []
    },
    {
      "cell_type": "code",
      "source": [
        "%%R\n",
        "sti_order <- filtered_graduates %>%\n",
        "  filter(program_type == \"STEM\") %>%\n",
        "  group_by(institution_value) %>%\n",
        "  summarise(total_graduates = sum(total_graduates)) %>%\n",
        "  arrange(-total_graduates) %>%\n",
        "  .$institution_value\n",
        "\n",
        "# Order by institution_value\n",
        "filtered_graduates <- filtered_graduates %>%\n",
        "  mutate(institution_value = factor(institution_value, levels = rev(sti_order)))\n",
        "\n",
        "#Replace NA with NACIT\n",
        "filtered_graduates  <- filtered_graduates %>%\n",
        "  mutate(institution_value = case_when(\n",
        "    is.na(institution_value) ~ \"NACIT\",\n",
        "    TRUE ~ institution_value\n",
        "  ))\n",
        "\n",
        "# Now, plot with 'institution_value' ordered as desired\n",
        "b<-ggplot(filtered_graduates, aes(x = institution_value, y = total_graduates, fill = program_type)) +\n",
        "  geom_bar(stat = \"identity\", position = \"stack\") +\n",
        "  coord_flip() +\n",
        "  scale_fill_viridis_d() +\n",
        "  scale_y_continuous(breaks = seq(0, max(filtered_graduates$total_graduates), by = 300)) +\n",
        "  labs(title = \"Distribution of Program Type by Institution\",\n",
        "       x = \"Institution\",\n",
        "       y = \"Total Graduates\",\n",
        "       fill = \"Program Type\") +\n",
        "  theme_minimal() +\n",
        "  theme(axis.text.x = element_text(angle = 45, hjust = 1, size = 14),\n",
        "        axis.text.y = element_text(size = 14),\n",
        "        axis.title.y = element_text(size = 15),\n",
        "        axis.title.x = element_text(size = 15),\n",
        "        plot.title = element_text(size = 14, face = \"bold\"),\n",
        "        legend.title = element_text(size = 14, face = \"bold\"),\n",
        "        legend.text = element_text(size = 14),\n",
        "        panel.grid.minor = element_blank(),\n",
        "        panel.grid.major = element_blank()\n",
        "  )\n",
        "  ggsave(\"ProgramByInstitution3.png\", plot = b, width = 10, height = 6, dpi = 300)"
      ],
      "metadata": {
        "id": "7D4YIaq0x-WU"
      },
      "execution_count": 90,
      "outputs": []
    }
  ]
}