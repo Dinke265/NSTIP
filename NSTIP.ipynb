{
  "nbformat": 4,
  "nbformat_minor": 0,
  "metadata": {
    "colab": {
      "provenance": [],
      "authorship_tag": "ABX9TyPEN1t8YTMjv0bW0WuuxX4S",
      "include_colab_link": true
    },
    "kernelspec": {
      "name": "python3",
      "display_name": "Python 3"
    },
    "language_info": {
      "name": "python"
    }
  },
  "cells": [
    {
      "cell_type": "markdown",
      "metadata": {
        "id": "view-in-github",
        "colab_type": "text"
      },
      "source": [
        "<a href=\"https://colab.research.google.com/github/Dinke265/NSTIP/blob/main/NSTIP.ipynb\" target=\"_parent\"><img src=\"https://colab.research.google.com/assets/colab-badge.svg\" alt=\"Open In Colab\"/></a>"
      ]
    },
    {
      "cell_type": "code",
      "execution_count": 1,
      "metadata": {
        "colab": {
          "base_uri": "https://localhost:8080/"
        },
        "id": "-9go3DcMEMlr",
        "outputId": "15647bf6-d989-4ec4-e543-e1f900d71fbc"
      },
      "outputs": [
        {
          "output_type": "stream",
          "name": "stdout",
          "text": [
            "Requirement already satisfied: rpy2 in /usr/local/lib/python3.10/dist-packages (3.4.2)\n",
            "Requirement already satisfied: cffi>=1.10.0 in /usr/local/lib/python3.10/dist-packages (from rpy2) (1.16.0)\n",
            "Requirement already satisfied: jinja2 in /usr/local/lib/python3.10/dist-packages (from rpy2) (3.1.3)\n",
            "Requirement already satisfied: pytz in /usr/local/lib/python3.10/dist-packages (from rpy2) (2023.4)\n",
            "Requirement already satisfied: tzlocal in /usr/local/lib/python3.10/dist-packages (from rpy2) (5.2)\n",
            "Requirement already satisfied: pycparser in /usr/local/lib/python3.10/dist-packages (from cffi>=1.10.0->rpy2) (2.21)\n",
            "Requirement already satisfied: MarkupSafe>=2.0 in /usr/local/lib/python3.10/dist-packages (from jinja2->rpy2) (2.1.5)\n"
          ]
        }
      ],
      "source": [
        "!pip install rpy2"
      ]
    },
    {
      "cell_type": "code",
      "source": [
        "%load_ext rpy2.ipython\n"
      ],
      "metadata": {
        "id": "gzWt5bszEVpI"
      },
      "execution_count": 2,
      "outputs": []
    },
    {
      "cell_type": "code",
      "source": [
        "%%R\n",
        "print(\"Hello from R!\")"
      ],
      "metadata": {
        "colab": {
          "base_uri": "https://localhost:8080/"
        },
        "id": "44--V51kE66J",
        "outputId": "89058810-4489-45ce-eea3-9ee491c992b1"
      },
      "execution_count": 3,
      "outputs": [
        {
          "output_type": "stream",
          "name": "stdout",
          "text": [
            "[1] \"Hello from R!\"\n"
          ]
        }
      ]
    },
    {
      "cell_type": "code",
      "source": [
        "from google.colab import drive\n",
        "drive.mount('/content/drive/')"
      ],
      "metadata": {
        "colab": {
          "base_uri": "https://localhost:8080/"
        },
        "id": "t0QCyeY_IHRT",
        "outputId": "7ff40619-c5df-4092-ce50-a0e3dcb9435b"
      },
      "execution_count": 4,
      "outputs": [
        {
          "output_type": "stream",
          "name": "stdout",
          "text": [
            "Mounted at /content/drive/\n"
          ]
        }
      ]
    },
    {
      "cell_type": "code",
      "source": [
        "%cd /content/drive/My Drive/NSTIP/"
      ],
      "metadata": {
        "colab": {
          "base_uri": "https://localhost:8080/"
        },
        "id": "pS2s3s1oIlDk",
        "outputId": "19061ff1-0d31-4e15-cf51-8cc5bf4a0aee"
      },
      "execution_count": 5,
      "outputs": [
        {
          "output_type": "stream",
          "name": "stdout",
          "text": [
            "/content/drive/My Drive/NSTIP\n"
          ]
        }
      ]
    },
    {
      "cell_type": "code",
      "source": [
        "%%R\n",
        "# Install the necessary package (if not already installed)\n",
        "install.packages(\"readr\")\n",
        "\n",
        "# Load the readr package\n",
        "library(readr)\n",
        "\n",
        "# Example of reading a file from the local file system (after uploading)\n",
        "allgradsdata <- read_csv(\"/content/drive/My Drive/NSTIP/AllGraduatesData2022.csv\")\n",
        "\n",
        "# Display the first few rows of the dataset\n",
        "head(allgradsdata)\n"
      ],
      "metadata": {
        "id": "293goozpIpTn"
      },
      "execution_count": null,
      "outputs": []
    },
    {
      "cell_type": "code",
      "source": [
        "%%R\n",
        "head(allgradsdata)\n",
        "\n",
        "names(allgradsdata) <- tolower(names(allgradsdata))\n",
        "\n",
        "print(names(allgradsdata))"
      ],
      "metadata": {
        "colab": {
          "base_uri": "https://localhost:8080/"
        },
        "id": "T7HEi3prKQsq",
        "outputId": "0da93a8e-2a99-4140-fad8-d2163b5fc9ef"
      },
      "execution_count": 29,
      "outputs": [
        {
          "output_type": "stream",
          "name": "stdout",
          "text": [
            " [1] \"public institution\"  \"private institutuin\" \"programs\"           \n",
            " [4] \"no.of females\"       \"no.of males\"         \"level\"              \n",
            " [7] \"stem\"                \"sti\"                 \"ict\"                \n",
            "[10] \"miscelaaneouss\"      \"degree_level\"       \n"
          ]
        }
      ]
    },
    {
      "cell_type": "code",
      "source": [
        "%%R\n",
        "# Print the unique categories for the level\n",
        "print(unique(allgradsdata$level))\n"
      ],
      "metadata": {
        "colab": {
          "base_uri": "https://localhost:8080/"
        },
        "id": "nqp8maATLB9t",
        "outputId": "4bb2b96e-3ce3-40fa-cc9d-aaf364ad46a6"
      },
      "execution_count": 10,
      "outputs": [
        {
          "output_type": "stream",
          "name": "stdout",
          "text": [
            " [1] \"Degree\"                     \"Diploma\"                   \n",
            " [3] \"Certificate\"                \"PhD\"                       \n",
            " [5] \"Masters\"                    \"Degree Level\"              \n",
            " [7] \"Masters Level\"              \"Postgraduate Diploma Level\"\n",
            " [9] NA                           \"Undergraduate\"             \n",
            "[11] \"Postgraduate\"               \"Bachelor's degree\"         \n",
            "[13] \"diploma\"                    \"CERTIFICATE\"               \n",
            "[15] \"NCC LEVEL 4 DIPLOMA\"        \"NCC LEVEL 5 DIPLOMA\"       \n",
            "[17] \"DEGREE\"                     \"Level 4\"                   \n",
            "[19] \"Level 6\"                    \"Bachelors\"                 \n",
            "[21] \"DIPLOMA\"                    \"BACHELOR'S\"                \n",
            "[23] \"MASTER'S\"                   \"Doctors\"                   \n",
            "[25] \"Post Graduate\"              \"MASTERS DEGREE\"            \n",
            "[27] \"7\"                          \"9\"                         \n",
            "[29] \"10\"                         \"UNDERGRADUATE\"             \n",
            "[31] \"Chichewa Program\"           \"English Program\"           \n",
            "[33] \"6\"                          \"4\"                         \n",
            "[35] \"5\"                          \"CA Level 1\"                \n",
            "[37] \"Foundetion Diploma\"         \"Diploma Level 5\"           \n",
            "[39] \"Diploma Level\"              \"Bacheros\"                  \n"
          ]
        }
      ]
    },
    {
      "cell_type": "code",
      "source": [
        "%%R\n",
        "\n",
        "install.packages(\"tidyverse\")\n",
        "install.packages(\"dplyr\")\n",
        "\n",
        "library(tidyverse)\n",
        "library(dplyr)\n"
      ],
      "metadata": {
        "id": "uUiCQnmWKQnl"
      },
      "execution_count": null,
      "outputs": []
    },
    {
      "cell_type": "code",
      "source": [
        "%%R\n",
        "#Clean the level variable\n",
        "\n",
        "allgradsdata <- allgradsdata %>%\n",
        "  mutate(level = case_when(\n",
        "    level == \"Degree\" ~ \"Bachelors\",\n",
        "    level == \"Degree Level\" ~ \"Bachelors\",\n",
        "    level == \"Undergraduate\" ~ \"Bachelors\",\n",
        "    level == \"BACHELOR'S\" ~ \"Bachelors\",\n",
        "    level == \"DEGREE\" ~ \"Bachelors\",\n",
        "    level == \"Bachelor's degree\" ~ \"Bachelors\",\n",
        "    level == \"Masters Level\" ~ \"Masters\",\n",
        "    level == \"MASTERS DEGREE\" ~ \"Masters\",\n",
        "    level == \"UNDERGRADUATE\" ~ \"Bachelors\",\n",
        "    level == \"MASTER'S\" ~ \"Masters\",\n",
        "    level == \"Diploma Level\" ~ \"Diploma\",\n",
        "    level == \"Foundetion Diploma\" ~ \"Diploma\",\n",
        "    level == \"Diploma Level 5\" ~ \"Diploma\",\n",
        "    level == \"NCC LEVEL 5 DIPLOMA\" ~ \"Diploma\",\n",
        "    level == \"NCC LEVEL 4 DIPLOMA\" ~ \"Diploma\",\n",
        "    level == \"diploma\" ~ \"Diploma\",\n",
        "    level == \"DIPLOMA\" ~ \"Diploma\",\n",
        "    level == \"Level 4\" ~ \"Diploma\",\n",
        "    level == \"Level 6\" ~ \"Bachelors\",\n",
        "    level == \"Chichewa Program\" ~ \"Certificate\",\n",
        "    level == \"English Program\" ~ \"Certificate\",\n",
        "    level == \"CERTIFICATE\" ~ \"Certificate\",\n",
        "    level == \"PhD\" ~ \"Doctorate\",\n",
        "    level == \"Doctors\" ~ \"Doctorate\",\n",
        "    level == \"7\" ~ \"Bachelors\",\n",
        "    level == \"9\" ~ \"Masters\",\n",
        "    level == \"10\" ~ \"Doctorate\",\n",
        "    level == \"4\" ~ \"Certificate\",\n",
        "    level == \"5\" ~ \"Diploma\",\n",
        "    level == \"6\" ~ \"Diploma\",\n",
        "    level == \"Post Graduate\" ~ \"Masters\",\n",
        "    level == \"Postgraduate\" ~ \"Masters\",\n",
        "    level == \"CA Level 1\" ~ \"Diploma\",\n",
        "    level == \"Postgraduate Diploma Level\" ~ \"Postgraduate Other\",\n",
        "    TRUE ~ as.character(level)\n",
        "  ))\n"
      ],
      "metadata": {
        "id": "t1THM3vdP7XY"
      },
      "execution_count": 27,
      "outputs": []
    },
    {
      "cell_type": "code",
      "source": [
        "%%R\n",
        "print(unique(allgradsdata$level)) # Check the categories for the level have been correctly replaced"
      ],
      "metadata": {
        "colab": {
          "base_uri": "https://localhost:8080/"
        },
        "outputId": "0dc1d61d-785a-44f5-a681-967d48759039",
        "id": "SL2jQbozQQIl"
      },
      "execution_count": 28,
      "outputs": [
        {
          "output_type": "stream",
          "name": "stdout",
          "text": [
            "[1] \"Bachelors\"          \"Diploma\"            \"Certificate\"       \n",
            "[4] \"Doctorate\"          \"Masters\"            \"Postgraduate Other\"\n",
            "[7] NA                  \n"
          ]
        }
      ]
    },
    {
      "cell_type": "code",
      "source": [
        "%%R\n",
        "#Renaming some variables\n",
        "allgradsdata <- allgradsdata %>%\n",
        "  rename(\n",
        "    males = `no.of males`,\n",
        "    females = `no.of females`,\n",
        "    private = `private institutuin`,\n",
        "    public = `public institution`)\n",
        "\n",
        "print(names(allgradsdata))"
      ],
      "metadata": {
        "colab": {
          "base_uri": "https://localhost:8080/"
        },
        "id": "-i6V8mLpV4ww",
        "outputId": "26bc87cf-7628-4f33-a689-a4b3a1e61054"
      },
      "execution_count": 34,
      "outputs": [
        {
          "output_type": "stream",
          "name": "stdout",
          "text": [
            " [1] \"public\"         \"private\"        \"programs\"       \"females\"       \n",
            " [5] \"males\"          \"level\"          \"stem\"           \"sti\"           \n",
            " [9] \"ict\"            \"miscelaaneouss\" \"degree_level\"  \n"
          ]
        }
      ]
    },
    {
      "cell_type": "markdown",
      "source": [
        "Creating an indicator variable for institution type.\n",
        "1= public institution\n",
        "0= private institution"
      ],
      "metadata": {
        "id": "jVbav7-rYAjL"
      }
    },
    {
      "cell_type": "code",
      "source": [
        "%%R\n",
        "allgradsdata <- allgradsdata %>%\n",
        "  mutate(\n",
        "    institution_type = case_when(\n",
        "      !is.na(public) ~ 1,\n",
        "      !is.na(private) ~ 0,\n",
        "      TRUE ~ NA_integer_\n",
        "    )\n",
        "  )"
      ],
      "metadata": {
        "id": "m4E9PGmEY4Jg"
      },
      "execution_count": 36,
      "outputs": []
    },
    {
      "cell_type": "code",
      "source": [
        "%%R\n",
        "head(allgradsdata)"
      ],
      "metadata": {
        "colab": {
          "base_uri": "https://localhost:8080/"
        },
        "id": "cR4EfkRzZSSD",
        "outputId": "37cf5a0f-fd79-47de-e3ce-06fe1a179a2d"
      },
      "execution_count": 37,
      "outputs": [
        {
          "output_type": "stream",
          "name": "stdout",
          "text": [
            "# A tibble: 6 × 12\n",
            "  public private programs   females males level  stem   sti   ict miscelaaneouss\n",
            "  <chr>  <chr>   <chr>        <dbl> <dbl> <chr> <dbl> <dbl> <dbl>          <dbl>\n",
            "1 MZUNI  <NA>    Bachelor …       6    11 Bach…    NA    NA    NA             NA\n",
            "2 MZUNI  <NA>    Bachelor …       8    20 Bach…    NA    NA    NA             NA\n",
            "3 MZUNI  <NA>    Bachelor …      21    28 Bach…    NA    NA    NA             NA\n",
            "4 MZUNI  <NA>    Bachelor …      40    52 Bach…    NA    NA    NA             NA\n",
            "5 MZUNI  <NA>    Diploma i…      11    25 Dipl…    NA    NA    NA             NA\n",
            "6 MZUNI  <NA>    Diploma i…       4     9 Dipl…    NA    NA    NA             NA\n",
            "# ℹ 2 more variables: degree_level <chr>, institution_type <dbl>\n"
          ]
        }
      ]
    },
    {
      "cell_type": "markdown",
      "source": [
        "Numbers of males and females by degree level"
      ],
      "metadata": {
        "id": "psgqNt8Vcs6h"
      }
    },
    {
      "cell_type": "code",
      "source": [
        "%%R\n",
        "allgradsdata %>%\n",
        "  group_by(level) %>%\n",
        "  summarise(\n",
        "    total_males = sum(males, na.rm = TRUE),\n",
        "    total_females = sum(females, na.rm = TRUE)\n",
        "  ) %>%\n",
        "  print()\n"
      ],
      "metadata": {
        "colab": {
          "base_uri": "https://localhost:8080/"
        },
        "id": "yBq_RN_UcxGu",
        "outputId": "9c8ec93a-88f0-4b92-fba6-c8a363b92413"
      },
      "execution_count": 39,
      "outputs": [
        {
          "output_type": "stream",
          "name": "stdout",
          "text": [
            "# A tibble: 7 × 3\n",
            "  level              total_males total_females\n",
            "  <chr>                    <dbl>         <dbl>\n",
            "1 Bachelors                 4247          3506\n",
            "2 Certificate                127           120\n",
            "3 Diploma                   1447          1168\n",
            "4 Doctorate                    8             1\n",
            "5 Masters                    351           218\n",
            "6 Postgraduate Other          16             8\n",
            "7 <NA>                     13478          9533\n"
          ]
        }
      ]
    }
  ]
}