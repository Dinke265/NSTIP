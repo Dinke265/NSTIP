{
  "nbformat": 4,
  "nbformat_minor": 0,
  "metadata": {
    "colab": {
      "provenance": [],
      "authorship_tag": "ABX9TyPQkS66/T4E63mpmuHXcZmq",
      "include_colab_link": true
    },
    "kernelspec": {
      "name": "python3",
      "display_name": "Python 3"
    },
    "language_info": {
      "name": "python"
    }
  },
  "cells": [
    {
      "cell_type": "markdown",
      "metadata": {
        "id": "view-in-github",
        "colab_type": "text"
      },
      "source": [
        "<a href=\"https://colab.research.google.com/github/Dinke265/NSTIP/blob/main/NSTIP.ipynb\" target=\"_parent\"><img src=\"https://colab.research.google.com/assets/colab-badge.svg\" alt=\"Open In Colab\"/></a>"
      ]
    },
    {
      "cell_type": "code",
      "execution_count": 1,
      "metadata": {
        "colab": {
          "base_uri": "https://localhost:8080/"
        },
        "id": "-9go3DcMEMlr",
        "outputId": "15647bf6-d989-4ec4-e543-e1f900d71fbc"
      },
      "outputs": [
        {
          "output_type": "stream",
          "name": "stdout",
          "text": [
            "Requirement already satisfied: rpy2 in /usr/local/lib/python3.10/dist-packages (3.4.2)\n",
            "Requirement already satisfied: cffi>=1.10.0 in /usr/local/lib/python3.10/dist-packages (from rpy2) (1.16.0)\n",
            "Requirement already satisfied: jinja2 in /usr/local/lib/python3.10/dist-packages (from rpy2) (3.1.3)\n",
            "Requirement already satisfied: pytz in /usr/local/lib/python3.10/dist-packages (from rpy2) (2023.4)\n",
            "Requirement already satisfied: tzlocal in /usr/local/lib/python3.10/dist-packages (from rpy2) (5.2)\n",
            "Requirement already satisfied: pycparser in /usr/local/lib/python3.10/dist-packages (from cffi>=1.10.0->rpy2) (2.21)\n",
            "Requirement already satisfied: MarkupSafe>=2.0 in /usr/local/lib/python3.10/dist-packages (from jinja2->rpy2) (2.1.5)\n"
          ]
        }
      ],
      "source": [
        "!pip install rpy2"
      ]
    },
    {
      "cell_type": "code",
      "source": [
        "%load_ext rpy2.ipython\n"
      ],
      "metadata": {
        "id": "gzWt5bszEVpI"
      },
      "execution_count": 2,
      "outputs": []
    },
    {
      "cell_type": "code",
      "source": [
        "from google.colab import drive\n",
        "drive.mount('/content/drive/')"
      ],
      "metadata": {
        "colab": {
          "base_uri": "https://localhost:8080/"
        },
        "id": "t0QCyeY_IHRT",
        "outputId": "44e4d257-d448-4eb5-e375-76f288389b14"
      },
      "execution_count": 75,
      "outputs": [
        {
          "output_type": "stream",
          "name": "stdout",
          "text": [
            "Drive already mounted at /content/drive/; to attempt to forcibly remount, call drive.mount(\"/content/drive/\", force_remount=True).\n"
          ]
        }
      ]
    },
    {
      "cell_type": "code",
      "source": [
        "%cd /content/drive/My Drive/NSTIP/"
      ],
      "metadata": {
        "colab": {
          "base_uri": "https://localhost:8080/"
        },
        "id": "pS2s3s1oIlDk",
        "outputId": "93388910-dbc6-4bbb-9f13-afd4bada3794"
      },
      "execution_count": 76,
      "outputs": [
        {
          "output_type": "stream",
          "name": "stdout",
          "text": [
            "/content/drive/My Drive/NSTIP\n"
          ]
        }
      ]
    },
    {
      "cell_type": "code",
      "source": [
        "%%R\n",
        "\n",
        "install.packages(\"tidyverse\")\n",
        "install.packages(\"dplyr\")\n",
        "install.packages(\"readr\")\n",
        "\n",
        "library(tidyverse)\n",
        "library(dplyr)\n",
        "library(readr)"
      ],
      "metadata": {
        "id": "hkw2JmUW9gul"
      },
      "execution_count": null,
      "outputs": []
    },
    {
      "cell_type": "code",
      "source": [
        "%%R\n",
        "allgradsdata <- read_csv(\"/content/drive/My Drive/NSTIP/AllGraduatesData2022.csv\")\n",
        "stemgrads <- read_csv(\"/content/drive/My Drive/NSTIP/STEMgraduates.csv\")\n",
        "head(allgradsdata)"
      ],
      "metadata": {
        "colab": {
          "base_uri": "https://localhost:8080/"
        },
        "id": "293goozpIpTn",
        "outputId": "514180e5-dc87-460a-ed92-5c8b3d3d8cab"
      },
      "execution_count": 77,
      "outputs": [
        {
          "output_type": "stream",
          "name": "stdout",
          "text": [
            "Rows: 992 Columns: 10\n",
            "── Column specification ────────────────────────────────────────────────────────\n",
            "Delimiter: \",\"\n",
            "chr (4): PUBLIC INSTITUTION, PRIVATE INSTITUTUIN, PROGRAMS, LEVEL\n",
            "dbl (6): NO.OF FEMALES, NO.OF MALES, STEM, STI, ICT, MISCELAANEOUSS\n",
            "\n",
            "ℹ Use `spec()` to retrieve the full column specification for this data.\n",
            "ℹ Specify the column types or set `show_col_types = FALSE` to quiet this message.\n"
          ]
        },
        {
          "output_type": "stream",
          "name": "stderr",
          "text": [
            "WARNING:rpy2.rinterface_lib.callbacks:R[write to console]: Error: '/content/drive/My Drive/NSTIP/STEMgraduates.csv' does not exist.\n",
            "\n"
          ]
        },
        {
          "output_type": "stream",
          "name": "stdout",
          "text": [
            "\n",
            "Error: '/content/drive/My Drive/NSTIP/STEMgraduates.csv' does not exist.\n"
          ]
        }
      ]
    },
    {
      "cell_type": "code",
      "source": [
        "%%R\n",
        "head(stemgrads)\n",
        "\n",
        "names(stemgrads) <- tolower(names(stemgrads))\n",
        "\n",
        "print(names(stemgrads))"
      ],
      "metadata": {
        "colab": {
          "base_uri": "https://localhost:8080/"
        },
        "id": "T7HEi3prKQsq",
        "outputId": "b8e3db5e-d9d6-41d8-a154-2045ce747fe3"
      },
      "execution_count": 73,
      "outputs": [
        {
          "output_type": "stream",
          "name": "stdout",
          "text": [
            " [1] \"public institution\"     \"private institutuin\"    \"stem program\"          \n",
            " [4] \"sti program\"            \"ict program\"            \"miscellaneous programs\"\n",
            " [7] \"no.of females\"          \"no.of males\"            \"level\"                 \n",
            "[10] \"...10\"                  \"...11\"                  \"...12\"                 \n",
            "[13] \"...13\"                  \"...14\"                  \"...15\"                 \n",
            "[16] \"...16\"                  \"...17\"                  \"...18\"                 \n",
            "[19] \"...19\"                  \"...20\"                  \"...21\"                 \n",
            "[22] \"...22\"                  \"...23\"                  \"...24\"                 \n",
            "[25] \"...25\"                  \"...26\"                  \"...27\"                 \n"
          ]
        }
      ]
    },
    {
      "cell_type": "code",
      "source": [
        "%%R\n",
        "# Print the unique categories for the level\n",
        "print(unique(stemgrads$level))\n"
      ],
      "metadata": {
        "colab": {
          "base_uri": "https://localhost:8080/"
        },
        "id": "nqp8maATLB9t",
        "outputId": "c57336cb-a117-46d7-d0b5-1c4a43cfad73"
      },
      "execution_count": 65,
      "outputs": [
        {
          "output_type": "stream",
          "name": "stdout",
          "text": [
            " [1] \"Bacherors\"                  \"Diploma\"                   \n",
            " [3] \"PhD\"                        \"Masters\"                   \n",
            " [5] \"Degree\"                     \"Certificate\"               \n",
            " [7] \"Bacheror\"                   \"Dipoma\"                    \n",
            " [9] NA                           \"Bachelor's degree\"         \n",
            "[11] \"Undergraduate\"              \"PHD\"                       \n",
            "[13] \"Postgraduate Diploma Level\" \"diploma\"                   \n",
            "[15] \"CERTIFICATE\"                \"Bachelors\"                 \n",
            "[17] \"Doctors\"                    \"Diplomas\"                  \n",
            "[19] \"UNDERGRADUATE\"              \"7\"                         \n",
            "[21] \"6\"                          \"4\"                         \n",
            "[23] \"5\"                          \"Post Graduate\"             \n",
            "[25] \"BACHELOR'S\"                 \"DIPLOMA\"                   \n",
            "[27] \"MASTER'S\"                   \"DEGREE\"                    \n",
            "[29] \"CA Level 1\"                 \"Foundetion Diploma\"        \n",
            "[31] \"Diploma Level 5\"            \"Diploma Level\"             \n",
            "[33] \"Bacheros\"                   \"MASTERS DEGREE\"            \n",
            "[35] \"Chichewa Program\"           \"English Program\"           \n"
          ]
        }
      ]
    },
    {
      "cell_type": "code",
      "source": [
        "%%R\n",
        "#Clean the level variable\n",
        "\n",
        "stemgrads <- stemgrads %>%\n",
        "  mutate(level = case_when(\n",
        "    level == \"Degree\" ~ \"Bachelors\",\n",
        "    level == \"Degree Level\" ~ \"Bachelors\",\n",
        "    level == \"Undergraduate\" ~ \"Bachelors\",\n",
        "    level == \"BACHELOR'S\" ~ \"Bachelors\",\n",
        "    level == \"DEGREE\" ~ \"Bachelors\",\n",
        "    level == \"Bachelor's degree\" ~ \"Bachelors\",\n",
        "    level == \"Bacherors\" ~ \"Bachelors\",\n",
        "    level == \"Bacheror\" ~ \"Bachelors\",\n",
        "    level == \"Bacheros\" ~ \"Bachelors\",\n",
        "    level == \"Masters Level\" ~ \"Masters\",\n",
        "    level == \"MASTERS DEGREE\" ~ \"Masters\",\n",
        "    level == \"UNDERGRADUATE\" ~ \"Bachelors\",\n",
        "    level == \"MASTER'S\" ~ \"Masters\",\n",
        "    level == \"Diploma Level\" ~ \"Diploma\",\n",
        "    level == \"Foundetion Diploma\" ~ \"Diploma\",\n",
        "    level == \"Diploma Level 5\" ~ \"Diploma\",\n",
        "    level == \"NCC LEVEL 5 DIPLOMA\" ~ \"Diploma\",\n",
        "    level == \"NCC LEVEL 4 DIPLOMA\" ~ \"Diploma\",\n",
        "    level == \"diploma\" ~ \"Diploma\",\n",
        "    level == \"DIPLOMA\" ~ \"Diploma\",\n",
        "    level == \"Level 4\" ~ \"Diploma\",\n",
        "    level == \"Dipoma\" ~ \"Diploma\",\n",
        "    level == \"Level 6\" ~ \"Bachelors\",\n",
        "    level == \"Chichewa Program\" ~ \"Certificate\",\n",
        "    level == \"English Program\" ~ \"Certificate\",\n",
        "    level == \"CERTIFICATE\" ~ \"Certificate\",\n",
        "    level == \"PhD\" ~ \"Doctorate\",\n",
        "    level == \"Doctors\" ~ \"Doctorate\",\n",
        "    level == \"7\" ~ \"Bachelors\",\n",
        "    level == \"9\" ~ \"Masters\",\n",
        "    level == \"10\" ~ \"Doctorate\",\n",
        "    level == \"PHD\" ~ \"Doctorate\",\n",
        "    level == \"4\" ~ \"Certificate\",\n",
        "    level == \"5\" ~ \"Diploma\",\n",
        "    level == \"6\" ~ \"Diploma\",\n",
        "    level == \"Post Graduate\" ~ \"Masters\",\n",
        "    level == \"Postgraduate\" ~ \"Masters\",\n",
        "    level == \"CA Level 1\" ~ \"Diploma\",\n",
        "    level == \"Postgraduate Diploma Level\" ~ \"Postgraduate Other\",\n",
        "    TRUE ~ as.character(level)\n",
        "  ))\n"
      ],
      "metadata": {
        "id": "t1THM3vdP7XY"
      },
      "execution_count": 68,
      "outputs": []
    },
    {
      "cell_type": "code",
      "source": [
        "%%R\n",
        "print(unique(stemgrads$level)) # Check the categories for the level have been correctly replaced"
      ],
      "metadata": {
        "colab": {
          "base_uri": "https://localhost:8080/"
        },
        "outputId": "71a1e536-ecf4-491b-93dd-8ce1a183d137",
        "id": "SL2jQbozQQIl"
      },
      "execution_count": 69,
      "outputs": [
        {
          "output_type": "stream",
          "name": "stdout",
          "text": [
            "[1] \"Bachelors\"          \"Diploma\"            \"Doctorate\"         \n",
            "[4] \"Masters\"            \"Certificate\"        NA                  \n",
            "[7] \"Postgraduate Other\" \"Diplomas\"          \n"
          ]
        }
      ]
    },
    {
      "cell_type": "code",
      "source": [
        "%%R\n",
        "#Renaming some variables\n",
        "stemgrads <- stemgrads%>%\n",
        "  rename(\n",
        "    males = `no.of males`,\n",
        "    females = `no.of females`,\n",
        "    private = `private institutuin`,\n",
        "    public = `public institution`)\n",
        "\n",
        "print(names(stemgrads))"
      ],
      "metadata": {
        "colab": {
          "base_uri": "https://localhost:8080/"
        },
        "id": "-i6V8mLpV4ww",
        "outputId": "0e85e6ec-67e6-407c-ea41-e9ca23330417"
      },
      "execution_count": 70,
      "outputs": [
        {
          "output_type": "stream",
          "name": "stdout",
          "text": [
            " [1] \"public\"                 \"private\"                \"stem program\"          \n",
            " [4] \"sti program\"            \"ict program\"            \"miscellaneous programs\"\n",
            " [7] \"females\"                \"males\"                  \"level\"                 \n",
            "[10] \"...10\"                  \"...11\"                  \"...12\"                 \n",
            "[13] \"...13\"                  \"...14\"                  \"...15\"                 \n",
            "[16] \"...16\"                  \"...17\"                  \"...18\"                 \n",
            "[19] \"...19\"                  \"...20\"                  \"...21\"                 \n",
            "[22] \"...22\"                  \"...23\"                  \"...24\"                 \n",
            "[25] \"...25\"                  \"...26\"                  \"...27\"                 \n"
          ]
        }
      ]
    },
    {
      "cell_type": "markdown",
      "source": [
        "Creating an indicator variable for institution type.\n",
        "1= public institution\n",
        "0= private institution"
      ],
      "metadata": {
        "id": "jVbav7-rYAjL"
      }
    },
    {
      "cell_type": "code",
      "source": [
        "%%R\n",
        "\n",
        "allgradsdata <- allgradsdata %>%\n",
        "  mutate(row_id = row_number()) %>%\n",
        "  pivot_longer(cols = c(private, public), names_to = \"type_institution\", values_to = \"institution_value\") %>%\n",
        "  filter(!is.na(institution_value)) %>%\n",
        "  mutate(institution_type = ifelse(institution_type == \"public\", 1, 0)) %>%\n",
        "  select(-row_id)"
      ],
      "metadata": {
        "id": "m4E9PGmEY4Jg"
      },
      "execution_count": 40,
      "outputs": []
    },
    {
      "cell_type": "code",
      "source": [
        "%%R\n",
        "#stemgrads <- stemgrads[order(stemgrads$institution_value, stemgrads$program), ]\n",
        "write.csv(stemgrads, \"stemgradsdata.csv\", row.names = TRUE)\n"
      ],
      "metadata": {
        "id": "cR4EfkRzZSSD"
      },
      "execution_count": 71,
      "outputs": []
    },
    {
      "cell_type": "markdown",
      "source": [
        "Numbers of males and females by degree level"
      ],
      "metadata": {
        "id": "psgqNt8Vcs6h"
      }
    },
    {
      "cell_type": "code",
      "source": [
        "%%R\n",
        "allgradsdata %>%\n",
        "  group_by(level) %>%\n",
        "  summarise(\n",
        "    total_males = sum(males, na.rm = TRUE),\n",
        "    total_females = sum(females, na.rm = TRUE)\n",
        "  ) %>%\n",
        "  print()\n"
      ],
      "metadata": {
        "id": "yBq_RN_UcxGu"
      },
      "execution_count": null,
      "outputs": []
    },
    {
      "cell_type": "markdown",
      "source": [
        "# **Read STEM, STI and ICT data**"
      ],
      "metadata": {
        "id": "Y5YA14yv4Haa"
      }
    },
    {
      "cell_type": "code",
      "source": [
        "%%R\n",
        "stemgrads <- read_csv(\"/content/drive/My Drive/NSTIP/STISTEMgraduates.csv\")"
      ],
      "metadata": {
        "colab": {
          "base_uri": "https://localhost:8080/"
        },
        "id": "WIiVtQBQ4LQa",
        "outputId": "fc11cd99-4d0f-416f-b7d6-7efaad4c9f5d"
      },
      "execution_count": 55,
      "outputs": [
        {
          "output_type": "stream",
          "name": "stdout",
          "text": [
            "New names:\n",
            "• `` -> `...10`\n",
            "• `` -> `...11`\n",
            "• `` -> `...12`\n",
            "• `` -> `...13`\n",
            "• `` -> `...14`\n",
            "• `` -> `...15`\n",
            "• `` -> `...16`\n",
            "• `` -> `...17`\n",
            "• `` -> `...18`\n",
            "• `` -> `...19`\n",
            "• `` -> `...20`\n",
            "• `` -> `...21`\n",
            "• `` -> `...22`\n",
            "• `` -> `...23`\n",
            "• `` -> `...24`\n",
            "• `` -> `...25`\n",
            "• `` -> `...26`\n",
            "• `` -> `...27`\n",
            "Rows: 1196 Columns: 27\n",
            "── Column specification ────────────────────────────────────────────────────────\n",
            "Delimiter: \",\"\n",
            "chr  (8): PUBLIC INSTITUTION, PRIVATE INSTITUTUIN, STEM PROGRAM, STI PROGRAM...\n",
            "dbl  (2): NO.OF FEMALES, NO.OF MALES\n",
            "lgl (17): ...11, ...12, ...13, ...14, ...15, ...16, ...17, ...18, ...19, ......\n",
            "\n",
            "ℹ Use `spec()` to retrieve the full column specification for this data.\n",
            "ℹ Specify the column types or set `show_col_types = FALSE` to quiet this message.\n"
          ]
        }
      ]
    },
    {
      "cell_type": "code",
      "source": [],
      "metadata": {
        "id": "S3T95flK4PQF"
      },
      "execution_count": null,
      "outputs": []
    }
  ]
}