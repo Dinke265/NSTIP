{
  "nbformat": 4,
  "nbformat_minor": 0,
  "metadata": {
    "colab": {
      "provenance": [],
      "authorship_tag": "ABX9TyPEsc0KFyzcGHi/47e1jGxo",
      "include_colab_link": true
    },
    "kernelspec": {
      "name": "python3",
      "display_name": "Python 3"
    },
    "language_info": {
      "name": "python"
    }
  },
  "cells": [
    {
      "cell_type": "markdown",
      "metadata": {
        "id": "view-in-github",
        "colab_type": "text"
      },
      "source": [
        "<a href=\"https://colab.research.google.com/github/Dinke265/NSTIP/blob/main/NSTIP.ipynb\" target=\"_parent\"><img src=\"https://colab.research.google.com/assets/colab-badge.svg\" alt=\"Open In Colab\"/></a>"
      ]
    },
    {
      "cell_type": "code",
      "execution_count": 1,
      "metadata": {
        "colab": {
          "base_uri": "https://localhost:8080/"
        },
        "id": "-9go3DcMEMlr",
        "outputId": "15647bf6-d989-4ec4-e543-e1f900d71fbc"
      },
      "outputs": [
        {
          "output_type": "stream",
          "name": "stdout",
          "text": [
            "Requirement already satisfied: rpy2 in /usr/local/lib/python3.10/dist-packages (3.4.2)\n",
            "Requirement already satisfied: cffi>=1.10.0 in /usr/local/lib/python3.10/dist-packages (from rpy2) (1.16.0)\n",
            "Requirement already satisfied: jinja2 in /usr/local/lib/python3.10/dist-packages (from rpy2) (3.1.3)\n",
            "Requirement already satisfied: pytz in /usr/local/lib/python3.10/dist-packages (from rpy2) (2023.4)\n",
            "Requirement already satisfied: tzlocal in /usr/local/lib/python3.10/dist-packages (from rpy2) (5.2)\n",
            "Requirement already satisfied: pycparser in /usr/local/lib/python3.10/dist-packages (from cffi>=1.10.0->rpy2) (2.21)\n",
            "Requirement already satisfied: MarkupSafe>=2.0 in /usr/local/lib/python3.10/dist-packages (from jinja2->rpy2) (2.1.5)\n"
          ]
        }
      ],
      "source": [
        "!pip install rpy2"
      ]
    },
    {
      "cell_type": "code",
      "source": [
        "%load_ext rpy2.ipython\n"
      ],
      "metadata": {
        "id": "gzWt5bszEVpI"
      },
      "execution_count": 2,
      "outputs": []
    },
    {
      "cell_type": "code",
      "source": [
        "from google.colab import drive\n",
        "drive.mount('/content/drive/')"
      ],
      "metadata": {
        "id": "t0QCyeY_IHRT"
      },
      "execution_count": null,
      "outputs": []
    },
    {
      "cell_type": "code",
      "source": [
        "%cd /content/drive/My Drive/NSTIP/"
      ],
      "metadata": {
        "id": "pS2s3s1oIlDk"
      },
      "execution_count": null,
      "outputs": []
    },
    {
      "cell_type": "code",
      "source": [
        "%%R\n",
        "install.packages(\"readr\")\n",
        "\n",
        "library(readr)\n",
        "allgradsdata <- read_csv(\"/content/drive/My Drive/NSTIP/AllGraduatesData2022.csv\")\n",
        "head(allgradsdata)"
      ],
      "metadata": {
        "id": "293goozpIpTn"
      },
      "execution_count": null,
      "outputs": []
    },
    {
      "cell_type": "code",
      "source": [
        "%%R\n",
        "head(allgradsdata)\n",
        "\n",
        "names(allgradsdata) <- tolower(names(allgradsdata))\n",
        "\n",
        "print(names(allgradsdata))"
      ],
      "metadata": {
        "id": "T7HEi3prKQsq"
      },
      "execution_count": null,
      "outputs": []
    },
    {
      "cell_type": "code",
      "source": [
        "%%R\n",
        "# Print the unique categories for the level\n",
        "print(unique(allgradsdata$level))\n"
      ],
      "metadata": {
        "id": "nqp8maATLB9t"
      },
      "execution_count": null,
      "outputs": []
    },
    {
      "cell_type": "code",
      "source": [
        "%%R\n",
        "\n",
        "install.packages(\"tidyverse\")\n",
        "install.packages(\"dplyr\")\n",
        "\n",
        "library(tidyverse)\n",
        "library(dplyr)\n"
      ],
      "metadata": {
        "id": "uUiCQnmWKQnl"
      },
      "execution_count": null,
      "outputs": []
    },
    {
      "cell_type": "code",
      "source": [
        "%%R\n",
        "#Clean the level variable\n",
        "\n",
        "allgradsdata <- allgradsdata %>%\n",
        "  mutate(level = case_when(\n",
        "    level == \"Degree\" ~ \"Bachelors\",\n",
        "    level == \"Degree Level\" ~ \"Bachelors\",\n",
        "    level == \"Undergraduate\" ~ \"Bachelors\",\n",
        "    level == \"BACHELOR'S\" ~ \"Bachelors\",\n",
        "    level == \"DEGREE\" ~ \"Bachelors\",\n",
        "    level == \"Bachelor's degree\" ~ \"Bachelors\",\n",
        "    level == \"Masters Level\" ~ \"Masters\",\n",
        "    level == \"MASTERS DEGREE\" ~ \"Masters\",\n",
        "    level == \"UNDERGRADUATE\" ~ \"Bachelors\",\n",
        "    level == \"MASTER'S\" ~ \"Masters\",\n",
        "    level == \"Diploma Level\" ~ \"Diploma\",\n",
        "    level == \"Foundetion Diploma\" ~ \"Diploma\",\n",
        "    level == \"Diploma Level 5\" ~ \"Diploma\",\n",
        "    level == \"NCC LEVEL 5 DIPLOMA\" ~ \"Diploma\",\n",
        "    level == \"NCC LEVEL 4 DIPLOMA\" ~ \"Diploma\",\n",
        "    level == \"diploma\" ~ \"Diploma\",\n",
        "    level == \"DIPLOMA\" ~ \"Diploma\",\n",
        "    level == \"Level 4\" ~ \"Diploma\",\n",
        "    level == \"Level 6\" ~ \"Bachelors\",\n",
        "    level == \"Chichewa Program\" ~ \"Certificate\",\n",
        "    level == \"English Program\" ~ \"Certificate\",\n",
        "    level == \"CERTIFICATE\" ~ \"Certificate\",\n",
        "    level == \"PhD\" ~ \"Doctorate\",\n",
        "    level == \"Doctors\" ~ \"Doctorate\",\n",
        "    level == \"7\" ~ \"Bachelors\",\n",
        "    level == \"9\" ~ \"Masters\",\n",
        "    level == \"10\" ~ \"Doctorate\",\n",
        "    level == \"4\" ~ \"Certificate\",\n",
        "    level == \"5\" ~ \"Diploma\",\n",
        "    level == \"6\" ~ \"Diploma\",\n",
        "    level == \"Post Graduate\" ~ \"Masters\",\n",
        "    level == \"Postgraduate\" ~ \"Masters\",\n",
        "    level == \"CA Level 1\" ~ \"Diploma\",\n",
        "    level == \"Postgraduate Diploma Level\" ~ \"Postgraduate Other\",\n",
        "    TRUE ~ as.character(level)\n",
        "  ))\n"
      ],
      "metadata": {
        "id": "t1THM3vdP7XY"
      },
      "execution_count": 27,
      "outputs": []
    },
    {
      "cell_type": "code",
      "source": [
        "%%R\n",
        "print(unique(allgradsdata$level)) # Check the categories for the level have been correctly replaced"
      ],
      "metadata": {
        "id": "SL2jQbozQQIl"
      },
      "execution_count": null,
      "outputs": []
    },
    {
      "cell_type": "code",
      "source": [
        "%%R\n",
        "#Renaming some variables\n",
        "allgradsdata <- allgradsdata %>%\n",
        "  rename(\n",
        "    males = `no.of males`,\n",
        "    females = `no.of females`,\n",
        "    private = `private institutuin`,\n",
        "    public = `public institution`)\n",
        "\n",
        "print(names(allgradsdata))"
      ],
      "metadata": {
        "id": "-i6V8mLpV4ww"
      },
      "execution_count": null,
      "outputs": []
    },
    {
      "cell_type": "markdown",
      "source": [
        "Creating an indicator variable for institution type.\n",
        "1= public institution\n",
        "0= private institution"
      ],
      "metadata": {
        "id": "jVbav7-rYAjL"
      }
    },
    {
      "cell_type": "code",
      "source": [
        "%%R\n",
        "allgradsdata <- allgradsdata %>%\n",
        "  mutate(\n",
        "    institution_type = case_when(\n",
        "      !is.na(public) ~ 1,\n",
        "      !is.na(private) ~ 0,\n",
        "      TRUE ~ NA_integer_\n",
        "    )\n",
        "  )"
      ],
      "metadata": {
        "id": "m4E9PGmEY4Jg"
      },
      "execution_count": 36,
      "outputs": []
    },
    {
      "cell_type": "code",
      "source": [
        "%%R\n",
        "head(allgradsdata)"
      ],
      "metadata": {
        "id": "cR4EfkRzZSSD"
      },
      "execution_count": null,
      "outputs": []
    },
    {
      "cell_type": "markdown",
      "source": [
        "Numbers of males and females by degree level"
      ],
      "metadata": {
        "id": "psgqNt8Vcs6h"
      }
    },
    {
      "cell_type": "code",
      "source": [
        "%%R\n",
        "allgradsdata %>%\n",
        "  group_by(level) %>%\n",
        "  summarise(\n",
        "    total_males = sum(males, na.rm = TRUE),\n",
        "    total_females = sum(females, na.rm = TRUE)\n",
        "  ) %>%\n",
        "  print()\n"
      ],
      "metadata": {
        "id": "yBq_RN_UcxGu"
      },
      "execution_count": null,
      "outputs": []
    }
  ]
}